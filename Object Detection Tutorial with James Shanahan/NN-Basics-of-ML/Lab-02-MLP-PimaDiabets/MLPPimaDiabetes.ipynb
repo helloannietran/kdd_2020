{
 "cells": [
  {
   "cell_type": "markdown",
   "metadata": {
    "colab_type": "text",
    "id": "te5jqfq4PYOy",
    "toc": "true"
   },
   "source": [
    "<h1>Table of Contents<span class=\"tocSkip\"></span></h1>\n",
    "<div class=\"toc\"><ul class=\"toc-item\"><li><span><a href=\"#Pima-Indian-Diabetes-Dataset:-Binary-Class-Problem\" data-toc-modified-id=\"Pima-Indian-Diabetes-Dataset:-Binary-Class-Problem-1\"><span class=\"toc-item-num\">1&nbsp;&nbsp;</span>Pima Indian Diabetes Dataset: Binary Class Problem</a></span></li><li><span><a href=\"#Preparation\" data-toc-modified-id=\"Preparation-2\"><span class=\"toc-item-num\">2&nbsp;&nbsp;</span>Preparation</a></span></li><li><span><a href=\"#EDA\" data-toc-modified-id=\"EDA-3\"><span class=\"toc-item-num\">3&nbsp;&nbsp;</span>EDA</a></span></li><li><span><a href=\"#K-Nearest-Neighbors\" data-toc-modified-id=\"K-Nearest-Neighbors-4\"><span class=\"toc-item-num\">4&nbsp;&nbsp;</span>K Nearest Neighbors</a></span></li><li><span><a href=\"#Neural-Network\" data-toc-modified-id=\"Neural-Network-5\"><span class=\"toc-item-num\">5&nbsp;&nbsp;</span>Neural Network</a></span><ul class=\"toc-item\"><li><span><a href=\"#Building\" data-toc-modified-id=\"Building-5.1\"><span class=\"toc-item-num\">5.1&nbsp;&nbsp;</span>Building</a></span></li><li><span><a href=\"#Training\" data-toc-modified-id=\"Training-5.2\"><span class=\"toc-item-num\">5.2&nbsp;&nbsp;</span>Training</a></span></li><li><span><a href=\"#Metrics\" data-toc-modified-id=\"Metrics-5.3\"><span class=\"toc-item-num\">5.3&nbsp;&nbsp;</span>Metrics</a></span></li></ul></li><li><span><a href=\"#TASK\" data-toc-modified-id=\"TASK-6\"><span class=\"toc-item-num\">6&nbsp;&nbsp;</span>TASK</a></span></li></ul></div>"
   ]
  },
  {
   "cell_type": "markdown",
   "metadata": {
    "colab_type": "text",
    "id": "U83UnhDoPYOz"
   },
   "source": [
    "# Pima Indian Diabetes Dataset: Binary Class Problem\n",
    "\n",
    "https://www.kaggle.com/uciml/pima-indians-diabetes-database\n",
    "\n",
    "This dataset is originally from the National Institute of Diabetes and Digestive and Kidney Diseases. The objective is to predict based on diagnostic measurements whether a patient has diabetes.\n",
    "\n",
    "Several constraints were placed on the selection of these instances from a larger database. In particular, all patients here are females at least 21 years old of Pima Indian heritage."
   ]
  },
  {
   "cell_type": "markdown",
   "metadata": {
    "colab_type": "text",
    "id": "TuLUcZznPYO0"
   },
   "source": [
    "# Preparation"
   ]
  },
  {
   "cell_type": "code",
   "execution_count": 2,
   "metadata": {},
   "outputs": [
    {
     "name": "stderr",
     "output_type": "stream",
     "text": [
      "Using TensorFlow backend.\n"
     ]
    },
    {
     "data": {
      "text/plain": [
       "['/job:localhost/replica:0/task:0/device:GPU:0']"
      ]
     },
     "execution_count": 2,
     "metadata": {},
     "output_type": "execute_result"
    }
   ],
   "source": [
    "from keras import backend as K \n",
    "K.tensorflow_backend._get_available_gpus() "
   ]
  },
  {
   "cell_type": "code",
   "execution_count": 3,
   "metadata": {},
   "outputs": [],
   "source": [
    "import tensorflow as tf\n",
    "import keras"
   ]
  },
  {
   "cell_type": "code",
   "execution_count": 4,
   "metadata": {},
   "outputs": [],
   "source": [
    "#config = tf.ConfigProto( device_count = {'GPU': 1 , 'CPU': 8} ) \n",
    "\n",
    "#sess = tf.Session(config=config) \n",
    "sess = tf.Session(config=tf.ConfigProto(log_device_placement=True)) \n",
    "keras.backend.set_session(sess)"
   ]
  },
  {
   "cell_type": "code",
   "execution_count": 5,
   "metadata": {
    "colab": {
     "base_uri": "https://localhost:8080/",
     "height": 34
    },
    "colab_type": "code",
    "executionInfo": {
     "elapsed": 2531,
     "status": "ok",
     "timestamp": 1564017905241,
     "user": {
      "displayName": "Amil Kabil",
      "photoUrl": "",
      "userId": "02528802352866201621"
     },
     "user_tz": 420
    },
    "id": "xwBD5rpQPYO1",
    "outputId": "4ac53d16-fbae-458a-ab49-a43edb3ea70f"
   },
   "outputs": [],
   "source": [
    "import time\n",
    "\n",
    "import numpy as np \n",
    "import pandas as pd\n",
    "\n",
    "from sklearn.metrics import accuracy_score, confusion_matrix, classification_report\n",
    "from sklearn.neighbors import KNeighborsClassifier\n",
    "from sklearn.model_selection import GridSearchCV\n",
    "from sklearn.model_selection import train_test_split\n",
    "\n",
    "from keras.models import Sequential\n",
    "from keras.layers import Dense\n",
    "from keras.utils.vis_utils import model_to_dot\n",
    "\n",
    "import matplotlib\n",
    "import matplotlib.pyplot as plt\n",
    "import seaborn as sns\n",
    "\n",
    "%matplotlib inline\n",
    "\n",
    "from IPython.display import SVG"
   ]
  },
  {
   "cell_type": "markdown",
   "metadata": {
    "colab_type": "text",
    "id": "sYFus4buPYO6"
   },
   "source": [
    "Set style for plotting"
   ]
  },
  {
   "cell_type": "code",
   "execution_count": 6,
   "metadata": {
    "colab": {},
    "colab_type": "code",
    "id": "eN1Y6G3FPYO7"
   },
   "outputs": [],
   "source": [
    "sns.set(style=\"whitegrid\", font_scale=1.3)\n",
    "matplotlib.rcParams[\"legend.framealpha\"] = 1\n",
    "matplotlib.rcParams[\"legend.frameon\"] = True"
   ]
  },
  {
   "cell_type": "markdown",
   "metadata": {
    "colab_type": "text",
    "id": "0tHF9WyNPYO9"
   },
   "source": [
    "Fix random seed for reproducibility"
   ]
  },
  {
   "cell_type": "code",
   "execution_count": 7,
   "metadata": {
    "colab": {},
    "colab_type": "code",
    "id": "GaH2pVQnPYO9"
   },
   "outputs": [],
   "source": [
    "np.random.seed(42)"
   ]
  },
  {
   "cell_type": "markdown",
   "metadata": {
    "colab_type": "text",
    "id": "oGui_4nzPYO_"
   },
   "source": [
    "# EDA"
   ]
  },
  {
   "cell_type": "markdown",
   "metadata": {
    "colab_type": "text",
    "id": "xX0TwXf9PYPA"
   },
   "source": [
    "Read data"
   ]
  },
  {
   "cell_type": "code",
   "execution_count": 8,
   "metadata": {
    "colab": {
     "base_uri": "https://localhost:8080/",
     "height": 204
    },
    "colab_type": "code",
    "executionInfo": {
     "elapsed": 3246,
     "status": "ok",
     "timestamp": 1564017905977,
     "user": {
      "displayName": "Amil Kabil",
      "photoUrl": "",
      "userId": "02528802352866201621"
     },
     "user_tz": 420
    },
    "id": "COU7lRCyk855",
    "outputId": "3e48c5b7-6366-4539-a969-eb75e7308f43"
   },
   "outputs": [
    {
     "name": "stdout",
     "output_type": "stream",
     "text": [
      "--2020-08-27 18:18:44--  https://raw.githubusercontent.com/turguz/Test/master/pima-indians-diabetes.csv\n",
      "Resolving raw.githubusercontent.com (raw.githubusercontent.com)... 151.101.52.133\n",
      "Connecting to raw.githubusercontent.com (raw.githubusercontent.com)|151.101.52.133|:443... connected.\n",
      "ERROR: cannot verify raw.githubusercontent.com's certificate, issued by ‘CN=DigiCert SHA2 High Assurance Server CA,OU=www.digicert.com,O=DigiCert Inc,C=US’:\n",
      "  Unable to locally verify the issuer's authority.\n",
      "To connect to raw.githubusercontent.com insecurely, use `--no-check-certificate'.\n"
     ]
    }
   ],
   "source": [
    "!wget https://raw.githubusercontent.com/turguz/Test/master/pima-indians-diabetes.csv"
   ]
  },
  {
   "cell_type": "code",
   "execution_count": 9,
   "metadata": {
    "colab": {},
    "colab_type": "code",
    "id": "1EgcWl9aPYPB"
   },
   "outputs": [],
   "source": [
    "pima = pd.read_csv(\"pima-indians-diabetes.csv\", delimiter=\"\\t\")"
   ]
  },
  {
   "cell_type": "markdown",
   "metadata": {
    "colab_type": "text",
    "id": "1iszwTX2PYPD"
   },
   "source": [
    "Let's observe the correlations between features and outcome"
   ]
  },
  {
   "cell_type": "code",
   "execution_count": 10,
   "metadata": {
    "colab": {
     "base_uri": "https://localhost:8080/",
     "height": 1000
    },
    "colab_type": "code",
    "executionInfo": {
     "elapsed": 4244,
     "status": "ok",
     "timestamp": 1564017906986,
     "user": {
      "displayName": "Amil Kabil",
      "photoUrl": "",
      "userId": "02528802352866201621"
     },
     "user_tz": 420
    },
    "id": "3iEorIfqPYPD",
    "outputId": "32ca9dfb-a90e-4b55-9bc0-a34c56cfd478"
   },
   "outputs": [
    {
     "data": {
      "image/png": "[encoded data removed]",
      "text/plain": [
       "<Figure size 1296x1296 with 2 Axes>"
      ]
     },
     "metadata": {},
     "output_type": "display_data"
    }
   ],
   "source": [
    "# compute the correlation matrix\n",
    "corr = pima.corr()\n",
    "\n",
    "# generate a mask for the lower triangle\n",
    "mask = np.zeros_like(corr, dtype=np.bool)\n",
    "mask[np.triu_indices_from(mask)] = True\n",
    "\n",
    "# set up the matplotlib figure\n",
    "f, ax = plt.subplots(figsize=(18, 18))\n",
    "\n",
    "# generate a custom diverging colormap\n",
    "cmap = sns.diverging_palette(220, 10, as_cmap=True)\n",
    "\n",
    "# draw the heatmap with the mask and correct aspect ratio\n",
    "sns.heatmap(corr, mask=mask, cmap=cmap, vmax=.3,\n",
    "            square=True, \n",
    "            linewidths=.5, cbar_kws={\"shrink\": .5}, ax=ax);"
   ]
  },
  {
   "cell_type": "markdown",
   "metadata": {
    "colab_type": "text",
    "id": "MBvZFFStPYPG"
   },
   "source": [
    "Statistics on data"
   ]
  },
  {
   "cell_type": "code",
   "execution_count": 11,
   "metadata": {
    "colab": {
     "base_uri": "https://localhost:8080/",
     "height": 204
    },
    "colab_type": "code",
    "executionInfo": {
     "elapsed": 4236,
     "status": "ok",
     "timestamp": 1564017906987,
     "user": {
      "displayName": "Amil Kabil",
      "photoUrl": "",
      "userId": "02528802352866201621"
     },
     "user_tz": 420
    },
    "id": "drL9IPXYPYPH",
    "outputId": "ed114c4e-3acc-4bf0-c106-4a7525e383de"
   },
   "outputs": [
    {
     "data": {
      "text/html": [
       "<div>\n",
       "<style scoped>\n",
       "    .dataframe tbody tr th:only-of-type {\n",
       "        vertical-align: middle;\n",
       "    }\n",
       "\n",
       "    .dataframe tbody tr th {\n",
       "        vertical-align: top;\n",
       "    }\n",
       "\n",
       "    .dataframe thead th {\n",
       "        text-align: right;\n",
       "    }\n",
       "</style>\n",
       "<table border=\"1\" class=\"dataframe\">\n",
       "  <thead>\n",
       "    <tr style=\"text-align: right;\">\n",
       "      <th></th>\n",
       "      <th>Pregnancies</th>\n",
       "      <th>Glucose</th>\n",
       "      <th>BloodPressure</th>\n",
       "      <th>SkinThickness</th>\n",
       "      <th>Insulin</th>\n",
       "      <th>BMI</th>\n",
       "      <th>DiabetesPedigreeFunction</th>\n",
       "      <th>Age</th>\n",
       "      <th>Outcome</th>\n",
       "    </tr>\n",
       "  </thead>\n",
       "  <tbody>\n",
       "    <tr>\n",
       "      <th>0</th>\n",
       "      <td>6</td>\n",
       "      <td>148</td>\n",
       "      <td>72</td>\n",
       "      <td>35</td>\n",
       "      <td>0</td>\n",
       "      <td>33.6</td>\n",
       "      <td>0.627</td>\n",
       "      <td>50</td>\n",
       "      <td>1</td>\n",
       "    </tr>\n",
       "    <tr>\n",
       "      <th>1</th>\n",
       "      <td>1</td>\n",
       "      <td>85</td>\n",
       "      <td>66</td>\n",
       "      <td>29</td>\n",
       "      <td>0</td>\n",
       "      <td>26.6</td>\n",
       "      <td>0.351</td>\n",
       "      <td>31</td>\n",
       "      <td>0</td>\n",
       "    </tr>\n",
       "    <tr>\n",
       "      <th>2</th>\n",
       "      <td>8</td>\n",
       "      <td>183</td>\n",
       "      <td>64</td>\n",
       "      <td>0</td>\n",
       "      <td>0</td>\n",
       "      <td>23.3</td>\n",
       "      <td>0.672</td>\n",
       "      <td>32</td>\n",
       "      <td>1</td>\n",
       "    </tr>\n",
       "    <tr>\n",
       "      <th>3</th>\n",
       "      <td>1</td>\n",
       "      <td>89</td>\n",
       "      <td>66</td>\n",
       "      <td>23</td>\n",
       "      <td>94</td>\n",
       "      <td>28.1</td>\n",
       "      <td>0.167</td>\n",
       "      <td>21</td>\n",
       "      <td>0</td>\n",
       "    </tr>\n",
       "    <tr>\n",
       "      <th>4</th>\n",
       "      <td>0</td>\n",
       "      <td>137</td>\n",
       "      <td>40</td>\n",
       "      <td>35</td>\n",
       "      <td>168</td>\n",
       "      <td>43.1</td>\n",
       "      <td>2.288</td>\n",
       "      <td>33</td>\n",
       "      <td>1</td>\n",
       "    </tr>\n",
       "  </tbody>\n",
       "</table>\n",
       "</div>"
      ],
      "text/plain": [
       "   Pregnancies  Glucose  BloodPressure  SkinThickness  Insulin   BMI  \\\n",
       "0            6      148             72             35        0  33.6   \n",
       "1            1       85             66             29        0  26.6   \n",
       "2            8      183             64              0        0  23.3   \n",
       "3            1       89             66             23       94  28.1   \n",
       "4            0      137             40             35      168  43.1   \n",
       "\n",
       "   DiabetesPedigreeFunction  Age  Outcome  \n",
       "0                     0.627   50        1  \n",
       "1                     0.351   31        0  \n",
       "2                     0.672   32        1  \n",
       "3                     0.167   21        0  \n",
       "4                     2.288   33        1  "
      ]
     },
     "execution_count": 11,
     "metadata": {},
     "output_type": "execute_result"
    }
   ],
   "source": [
    "pima.head()"
   ]
  },
  {
   "cell_type": "code",
   "execution_count": 12,
   "metadata": {
    "colab": {
     "base_uri": "https://localhost:8080/",
     "height": 297
    },
    "colab_type": "code",
    "executionInfo": {
     "elapsed": 4232,
     "status": "ok",
     "timestamp": 1564017906988,
     "user": {
      "displayName": "Amil Kabil",
      "photoUrl": "",
      "userId": "02528802352866201621"
     },
     "user_tz": 420
    },
    "id": "ZEKDnVDUPYPK",
    "outputId": "13cc83bd-9dfa-42a6-9d63-680b60974ec0"
   },
   "outputs": [
    {
     "data": {
      "text/html": [
       "<div>\n",
       "<style scoped>\n",
       "    .dataframe tbody tr th:only-of-type {\n",
       "        vertical-align: middle;\n",
       "    }\n",
       "\n",
       "    .dataframe tbody tr th {\n",
       "        vertical-align: top;\n",
       "    }\n",
       "\n",
       "    .dataframe thead th {\n",
       "        text-align: right;\n",
       "    }\n",
       "</style>\n",
       "<table border=\"1\" class=\"dataframe\">\n",
       "  <thead>\n",
       "    <tr style=\"text-align: right;\">\n",
       "      <th></th>\n",
       "      <th>Pregnancies</th>\n",
       "      <th>Glucose</th>\n",
       "      <th>BloodPressure</th>\n",
       "      <th>SkinThickness</th>\n",
       "      <th>Insulin</th>\n",
       "      <th>BMI</th>\n",
       "      <th>DiabetesPedigreeFunction</th>\n",
       "      <th>Age</th>\n",
       "      <th>Outcome</th>\n",
       "    </tr>\n",
       "  </thead>\n",
       "  <tbody>\n",
       "    <tr>\n",
       "      <th>count</th>\n",
       "      <td>768.000000</td>\n",
       "      <td>768.000000</td>\n",
       "      <td>768.000000</td>\n",
       "      <td>768.000000</td>\n",
       "      <td>768.000000</td>\n",
       "      <td>768.000000</td>\n",
       "      <td>768.000000</td>\n",
       "      <td>768.000000</td>\n",
       "      <td>768.000000</td>\n",
       "    </tr>\n",
       "    <tr>\n",
       "      <th>mean</th>\n",
       "      <td>3.845052</td>\n",
       "      <td>120.894531</td>\n",
       "      <td>69.105469</td>\n",
       "      <td>20.536458</td>\n",
       "      <td>79.799479</td>\n",
       "      <td>31.992578</td>\n",
       "      <td>0.471876</td>\n",
       "      <td>33.240885</td>\n",
       "      <td>0.348958</td>\n",
       "    </tr>\n",
       "    <tr>\n",
       "      <th>std</th>\n",
       "      <td>3.369578</td>\n",
       "      <td>31.972618</td>\n",
       "      <td>19.355807</td>\n",
       "      <td>15.952218</td>\n",
       "      <td>115.244002</td>\n",
       "      <td>7.884160</td>\n",
       "      <td>0.331329</td>\n",
       "      <td>11.760232</td>\n",
       "      <td>0.476951</td>\n",
       "    </tr>\n",
       "    <tr>\n",
       "      <th>min</th>\n",
       "      <td>0.000000</td>\n",
       "      <td>0.000000</td>\n",
       "      <td>0.000000</td>\n",
       "      <td>0.000000</td>\n",
       "      <td>0.000000</td>\n",
       "      <td>0.000000</td>\n",
       "      <td>0.078000</td>\n",
       "      <td>21.000000</td>\n",
       "      <td>0.000000</td>\n",
       "    </tr>\n",
       "    <tr>\n",
       "      <th>25%</th>\n",
       "      <td>1.000000</td>\n",
       "      <td>99.000000</td>\n",
       "      <td>62.000000</td>\n",
       "      <td>0.000000</td>\n",
       "      <td>0.000000</td>\n",
       "      <td>27.300000</td>\n",
       "      <td>0.243750</td>\n",
       "      <td>24.000000</td>\n",
       "      <td>0.000000</td>\n",
       "    </tr>\n",
       "    <tr>\n",
       "      <th>50%</th>\n",
       "      <td>3.000000</td>\n",
       "      <td>117.000000</td>\n",
       "      <td>72.000000</td>\n",
       "      <td>23.000000</td>\n",
       "      <td>30.500000</td>\n",
       "      <td>32.000000</td>\n",
       "      <td>0.372500</td>\n",
       "      <td>29.000000</td>\n",
       "      <td>0.000000</td>\n",
       "    </tr>\n",
       "    <tr>\n",
       "      <th>75%</th>\n",
       "      <td>6.000000</td>\n",
       "      <td>140.250000</td>\n",
       "      <td>80.000000</td>\n",
       "      <td>32.000000</td>\n",
       "      <td>127.250000</td>\n",
       "      <td>36.600000</td>\n",
       "      <td>0.626250</td>\n",
       "      <td>41.000000</td>\n",
       "      <td>1.000000</td>\n",
       "    </tr>\n",
       "    <tr>\n",
       "      <th>max</th>\n",
       "      <td>17.000000</td>\n",
       "      <td>199.000000</td>\n",
       "      <td>122.000000</td>\n",
       "      <td>99.000000</td>\n",
       "      <td>846.000000</td>\n",
       "      <td>67.100000</td>\n",
       "      <td>2.420000</td>\n",
       "      <td>81.000000</td>\n",
       "      <td>1.000000</td>\n",
       "    </tr>\n",
       "  </tbody>\n",
       "</table>\n",
       "</div>"
      ],
      "text/plain": [
       "       Pregnancies     Glucose  BloodPressure  SkinThickness     Insulin  \\\n",
       "count   768.000000  768.000000     768.000000     768.000000  768.000000   \n",
       "mean      3.845052  120.894531      69.105469      20.536458   79.799479   \n",
       "std       3.369578   31.972618      19.355807      15.952218  115.244002   \n",
       "min       0.000000    0.000000       0.000000       0.000000    0.000000   \n",
       "25%       1.000000   99.000000      62.000000       0.000000    0.000000   \n",
       "50%       3.000000  117.000000      72.000000      23.000000   30.500000   \n",
       "75%       6.000000  140.250000      80.000000      32.000000  127.250000   \n",
       "max      17.000000  199.000000     122.000000      99.000000  846.000000   \n",
       "\n",
       "              BMI  DiabetesPedigreeFunction         Age     Outcome  \n",
       "count  768.000000                768.000000  768.000000  768.000000  \n",
       "mean    31.992578                  0.471876   33.240885    0.348958  \n",
       "std      7.884160                  0.331329   11.760232    0.476951  \n",
       "min      0.000000                  0.078000   21.000000    0.000000  \n",
       "25%     27.300000                  0.243750   24.000000    0.000000  \n",
       "50%     32.000000                  0.372500   29.000000    0.000000  \n",
       "75%     36.600000                  0.626250   41.000000    1.000000  \n",
       "max     67.100000                  2.420000   81.000000    1.000000  "
      ]
     },
     "execution_count": 12,
     "metadata": {},
     "output_type": "execute_result"
    }
   ],
   "source": [
    "pima.describe()"
   ]
  },
  {
   "cell_type": "markdown",
   "metadata": {
    "colab_type": "text",
    "id": "-h7Mp5ZwPYPM"
   },
   "source": [
    "Create Training and testing split"
   ]
  },
  {
   "cell_type": "code",
   "execution_count": 13,
   "metadata": {
    "colab": {},
    "colab_type": "code",
    "id": "-9GsYAV2PYPN"
   },
   "outputs": [],
   "source": [
    "X_train, X_test, y_train, y_test = train_test_split(pima.iloc[:, :8], pima.iloc[:, 8], test_size=0.30, random_state=42)"
   ]
  },
  {
   "cell_type": "markdown",
   "metadata": {
    "colab_type": "text",
    "id": "27Gqt9IePYPP"
   },
   "source": [
    "# K Nearest Neighbors"
   ]
  },
  {
   "cell_type": "markdown",
   "metadata": {
    "colab_type": "text",
    "id": "Bwev_7H6PYPQ"
   },
   "source": [
    "Let's do a little of Cross-Validation and find the optimal number of nearest neighbors for KNN.\n",
    "\n",
    "For this purpose we're going to use `GridSearchCV` function from `scikit-learn`. It uses the notion of *cross-validation*: \n",
    "\n",
    "1. Split the given data into predefined number of folds.\n",
    "2. Leave one fold for testing and use other for training. Repeat it for all folds.\n",
    "3. Average the test score across the folds.\n",
    "4. The average score is the estimation of the test quality.\n",
    "\n",
    "One can easily adapt this technique for choosing the best set of parameters among some predefined set. Just calculate the CV score for each setting and then chose the one with the highest score"
   ]
  },
  {
   "cell_type": "code",
   "execution_count": 13,
   "metadata": {
    "colab": {
     "base_uri": "https://localhost:8080/",
     "height": 258
    },
    "colab_type": "code",
    "executionInfo": {
     "elapsed": 5000,
     "status": "ok",
     "timestamp": 1564017907771,
     "user": {
      "displayName": "Amil Kabil",
      "photoUrl": "",
      "userId": "02528802352866201621"
     },
     "user_tz": 420
    },
    "id": "zUy6ynlYPYPQ",
    "outputId": "2e33a3a0-7413-4dfb-c89d-7593b9335dc0"
   },
   "outputs": [
    {
     "data": {
      "text/plain": [
       "GridSearchCV(cv=5, error_score=nan,\n",
       "             estimator=KNeighborsClassifier(algorithm='auto', leaf_size=30,\n",
       "                                            metric='minkowski',\n",
       "                                            metric_params=None, n_jobs=None,\n",
       "                                            n_neighbors=5, p=2,\n",
       "                                            weights='uniform'),\n",
       "             iid='deprecated', n_jobs=None,\n",
       "             param_grid={'n_neighbors': array([ 1,  2,  3,  4,  5,  6,  7,  8,  9, 10, 11, 12, 13, 14, 15, 16, 17,\n",
       "       18, 19, 20])},\n",
       "             pre_dispatch='2*n_jobs', refit=True, return_train_score=False,\n",
       "             scoring=None, verbose=0)"
      ]
     },
     "execution_count": 13,
     "metadata": {},
     "output_type": "execute_result"
    }
   ],
   "source": [
    "model = GridSearchCV(estimator=KNeighborsClassifier(), # the estimator we're going to evaluate\n",
    "                     param_grid={\"n_neighbors\": np.arange(1, 21)}, # the parameters set\n",
    "                     cv=5, # nubmer fo folds\n",
    "                     refit=True) # fit model with the best params on the whole dataset\n",
    "model.fit(X_train, y_train)"
   ]
  },
  {
   "cell_type": "code",
   "execution_count": 14,
   "metadata": {
    "colab": {
     "base_uri": "https://localhost:8080/",
     "height": 51
    },
    "colab_type": "code",
    "executionInfo": {
     "elapsed": 4995,
     "status": "ok",
     "timestamp": 1564017907773,
     "user": {
      "displayName": "Amil Kabil",
      "photoUrl": "",
      "userId": "02528802352866201621"
     },
     "user_tz": 420
    },
    "id": "5zb8YbN9PYPT",
    "outputId": "12df77e4-24b6-49b9-d896-d2825a888b30"
   },
   "outputs": [
    {
     "name": "stdout",
     "output_type": "stream",
     "text": [
      "Best n_neighbors: 10\n",
      "Estimated test accuracy: 73.73%\n"
     ]
    }
   ],
   "source": [
    "print(\"Best n_neighbors:\", model.best_params_[\"n_neighbors\"])\n",
    "print(\"Estimated test accuracy: {0:.2f}%\".format(model.best_score_ * 100))"
   ]
  },
  {
   "cell_type": "markdown",
   "metadata": {
    "colab_type": "text",
    "id": "D-eOO4vkPYPV"
   },
   "source": [
    "Let's see how estimated test accuracy depends on the number of neighbors"
   ]
  },
  {
   "cell_type": "code",
   "execution_count": 15,
   "metadata": {
    "colab": {
     "base_uri": "https://localhost:8080/",
     "height": 544
    },
    "colab_type": "code",
    "executionInfo": {
     "elapsed": 5489,
     "status": "ok",
     "timestamp": 1564017908274,
     "user": {
      "displayName": "Amil Kabil",
      "photoUrl": "",
      "userId": "02528802352866201621"
     },
     "user_tz": 420
    },
    "id": "TWsFA5WuPYPW",
    "outputId": "a5e69957-578c-4fa8-93d6-1c84cee3418e"
   },
   "outputs": [
    {
     "data": {
      "image/png": "[encoded data removed]",
      "text/plain": [
       "<Figure size 720x576 with 1 Axes>"
      ]
     },
     "metadata": {},
     "output_type": "display_data"
    }
   ],
   "source": [
    "plt.figure(figsize=(10, 8))\n",
    "plt.plot(model.param_grid[\"n_neighbors\"], \n",
    "         model.cv_results_[\"mean_test_score\"] * 100, \n",
    "         \"o-\")\n",
    "plt.plot([model.best_params_[\"n_neighbors\"]], \n",
    "         [model.best_score_ * 100], \"or\", markersize=15, label=\"Best\")\n",
    "plt.xlabel(\"Number of neighbors\")\n",
    "plt.ylabel(\"Accuracy, %\")\n",
    "plt.legend(numpoints=1)\n",
    "plt.title(\"Dependency of accuracy\\non number of neighboors\");"
   ]
  },
  {
   "cell_type": "markdown",
   "metadata": {
    "colab_type": "text",
    "id": "rk0F3RYiPYPZ"
   },
   "source": [
    "Finally let's see how our estimator performs on the hold-out test set"
   ]
  },
  {
   "cell_type": "code",
   "execution_count": 16,
   "metadata": {
    "colab": {
     "base_uri": "https://localhost:8080/",
     "height": 34
    },
    "colab_type": "code",
    "executionInfo": {
     "elapsed": 5482,
     "status": "ok",
     "timestamp": 1564017908275,
     "user": {
      "displayName": "Amil Kabil",
      "photoUrl": "",
      "userId": "02528802352866201621"
     },
     "user_tz": 420
    },
    "id": "2YWDOv6sPYPa",
    "outputId": "f1c486c7-9ac1-4564-aaf8-c80d46923c2a"
   },
   "outputs": [
    {
     "name": "stdout",
     "output_type": "stream",
     "text": [
      "KNN Test Accuracy is 71.86\n"
     ]
    }
   ],
   "source": [
    "y_pred = model.predict(X_test)\n",
    "print(\"KNN Test Accuracy is {0:.2f}\".format(accuracy_score(y_test, y_pred) * 100))"
   ]
  },
  {
   "cell_type": "markdown",
   "metadata": {
    "colab_type": "text",
    "id": "00dypflXPYPe"
   },
   "source": [
    "# Neural Network\n",
    "\n",
    "Let's try fully-connected network with 8-8-32-16-1 architecture\n",
    "\n",
    "Here we're going to use `Sequential` container for it (in previous notebooks we used Keras Model API)"
   ]
  },
  {
   "cell_type": "markdown",
   "metadata": {
    "colab_type": "text",
    "id": "oLenFOuUPYPg"
   },
   "source": [
    "## Building"
   ]
  },
  {
   "cell_type": "code",
   "execution_count": 17,
   "metadata": {
    "colab": {
     "base_uri": "https://localhost:8080/",
     "height": 156
    },
    "colab_type": "code",
    "executionInfo": {
     "elapsed": 5478,
     "status": "ok",
     "timestamp": 1564017908276,
     "user": {
      "displayName": "Amil Kabil",
      "photoUrl": "",
      "userId": "02528802352866201621"
     },
     "user_tz": 420
    },
    "id": "dHg7aX6yPYPg",
    "outputId": "c15f9a37-0d34-49e6-d474-c898fecfe19e"
   },
   "outputs": [],
   "source": [
    "model = Sequential()\n",
    "model.add(Dense(8, input_dim=8, activation='relu')) #input with hidden\n",
    "model.add(Dense(32, activation='relu')) #hidden\n",
    "model.add(Dense(16, activation='relu')) #hidden\n",
    "model.add(Dense(1, activation='sigmoid')) #output"
   ]
  },
  {
   "cell_type": "markdown",
   "metadata": {
    "colab_type": "text",
    "id": "IhZwh51zPYPk"
   },
   "source": [
    "Compile the model"
   ]
  },
  {
   "cell_type": "code",
   "execution_count": 18,
   "metadata": {
    "colab": {
     "base_uri": "https://localhost:8080/",
     "height": 190
    },
    "colab_type": "code",
    "executionInfo": {
     "elapsed": 5469,
     "status": "ok",
     "timestamp": 1564017908277,
     "user": {
      "displayName": "Amil Kabil",
      "photoUrl": "",
      "userId": "02528802352866201621"
     },
     "user_tz": 420
    },
    "id": "FHK4IifiPYPl",
    "outputId": "24c6b468-5a75-412f-e43a-64928a9e4a21"
   },
   "outputs": [
    {
     "name": "stdout",
     "output_type": "stream",
     "text": [
      "CPU times: user 7 µs, sys: 1 µs, total: 8 µs\n",
      "Wall time: 17.9 µs\n",
      "WARNING:tensorflow:From /opt/conda/lib/python3.7/site-packages/tensorflow/python/ops/nn_impl.py:180: add_dispatch_support.<locals>.wrapper (from tensorflow.python.ops.array_ops) is deprecated and will be removed in a future version.\n",
      "Instructions for updating:\n",
      "Use tf.where in 2.0, which has the same broadcast rule as np.where\n"
     ]
    }
   ],
   "source": [
    "%time \n",
    "model.compile(loss='binary_crossentropy', \n",
    "              optimizer=\"adam\", \n",
    "              metrics=['accuracy'])"
   ]
  },
  {
   "cell_type": "code",
   "execution_count": 19,
   "metadata": {
    "colab": {
     "base_uri": "https://localhost:8080/",
     "height": 272
    },
    "colab_type": "code",
    "executionInfo": {
     "elapsed": 5465,
     "status": "ok",
     "timestamp": 1564017908278,
     "user": {
      "displayName": "Amil Kabil",
      "photoUrl": "",
      "userId": "02528802352866201621"
     },
     "user_tz": 420
    },
    "id": "9AhidPtePYPp",
    "outputId": "d6e8b85b-d00a-481a-9527-eb65f13a0e52"
   },
   "outputs": [
    {
     "name": "stdout",
     "output_type": "stream",
     "text": [
      "Model: \"sequential_1\"\n",
      "_________________________________________________________________\n",
      "Layer (type)                 Output Shape              Param #   \n",
      "=================================================================\n",
      "dense_1 (Dense)              (None, 8)                 72        \n",
      "_________________________________________________________________\n",
      "dense_2 (Dense)              (None, 32)                288       \n",
      "_________________________________________________________________\n",
      "dense_3 (Dense)              (None, 16)                528       \n",
      "_________________________________________________________________\n",
      "dense_4 (Dense)              (None, 1)                 17        \n",
      "=================================================================\n",
      "Total params: 905\n",
      "Trainable params: 905\n",
      "Non-trainable params: 0\n",
      "_________________________________________________________________\n"
     ]
    }
   ],
   "source": [
    "model.summary()"
   ]
  },
  {
   "cell_type": "code",
   "execution_count": 20,
   "metadata": {
    "colab": {
     "base_uri": "https://localhost:8080/",
     "height": 524
    },
    "colab_type": "code",
    "executionInfo": {
     "elapsed": 5606,
     "status": "ok",
     "timestamp": 1564017908424,
     "user": {
      "displayName": "Amil Kabil",
      "photoUrl": "",
      "userId": "02528802352866201621"
     },
     "user_tz": 420
    },
    "id": "LVaiEDgSPYPr",
    "outputId": "55ed64f7-52d7-4272-e4d7-16a34e474f80"
   },
   "outputs": [
    {
     "data": {
      "image/svg+xml": [
       "<svg height=\"376pt\" viewBox=\"0.00 0.00 368.00 387.00\" width=\"358pt\" xmlns=\"http://www.w3.org/2000/svg\" xmlns:xlink=\"http://www.w3.org/1999/xlink\">\n",
       "<g class=\"graph\" id=\"graph0\" transform=\"scale(.9722 .9722) rotate(0) translate(4 383)\">\n",
       "<title>G</title>\n",
       "<polygon fill=\"#ffffff\" points=\"-4,4 -4,-383 364,-383 364,4 -4,4\" stroke=\"transparent\"/>\n",
       "<!-- 140668734684944 -->\n",
       "<g class=\"node\" id=\"node1\">\n",
       "<title>140668734684944</title>\n",
       "<polygon fill=\"none\" points=\"0,-332.5 0,-378.5 360,-378.5 360,-332.5 0,-332.5\" stroke=\"#000000\"/>\n",
       "<text fill=\"#000000\" font-family=\"Times,serif\" font-size=\"14.00\" text-anchor=\"middle\" x=\"104.5\" y=\"-351.8\">dense_1_input: InputLayer</text>\n",
       "<polyline fill=\"none\" points=\"209,-332.5 209,-378.5 \" stroke=\"#000000\"/>\n",
       "<text fill=\"#000000\" font-family=\"Times,serif\" font-size=\"14.00\" text-anchor=\"middle\" x=\"243\" y=\"-363.3\">input:</text>\n",
       "<polyline fill=\"none\" points=\"209,-355.5 277,-355.5 \" stroke=\"#000000\"/>\n",
       "<text fill=\"#000000\" font-family=\"Times,serif\" font-size=\"14.00\" text-anchor=\"middle\" x=\"243\" y=\"-340.3\">output:</text>\n",
       "<polyline fill=\"none\" points=\"277,-332.5 277,-378.5 \" stroke=\"#000000\"/>\n",
       "<text fill=\"#000000\" font-family=\"Times,serif\" font-size=\"14.00\" text-anchor=\"middle\" x=\"318.5\" y=\"-363.3\">(None, 8)</text>\n",
       "<polyline fill=\"none\" points=\"277,-355.5 360,-355.5 \" stroke=\"#000000\"/>\n",
       "<text fill=\"#000000\" font-family=\"Times,serif\" font-size=\"14.00\" text-anchor=\"middle\" x=\"318.5\" y=\"-340.3\">(None, 8)</text>\n",
       "</g>\n",
       "<!-- 140668734187472 -->\n",
       "<g class=\"node\" id=\"node2\">\n",
       "<title>140668734187472</title>\n",
       "<polygon fill=\"none\" points=\"40.5,-249.5 40.5,-295.5 319.5,-295.5 319.5,-249.5 40.5,-249.5\" stroke=\"#000000\"/>\n",
       "<text fill=\"#000000\" font-family=\"Times,serif\" font-size=\"14.00\" text-anchor=\"middle\" x=\"104.5\" y=\"-268.8\">dense_1: Dense</text>\n",
       "<polyline fill=\"none\" points=\"168.5,-249.5 168.5,-295.5 \" stroke=\"#000000\"/>\n",
       "<text fill=\"#000000\" font-family=\"Times,serif\" font-size=\"14.00\" text-anchor=\"middle\" x=\"202.5\" y=\"-280.3\">input:</text>\n",
       "<polyline fill=\"none\" points=\"168.5,-272.5 236.5,-272.5 \" stroke=\"#000000\"/>\n",
       "<text fill=\"#000000\" font-family=\"Times,serif\" font-size=\"14.00\" text-anchor=\"middle\" x=\"202.5\" y=\"-257.3\">output:</text>\n",
       "<polyline fill=\"none\" points=\"236.5,-249.5 236.5,-295.5 \" stroke=\"#000000\"/>\n",
       "<text fill=\"#000000\" font-family=\"Times,serif\" font-size=\"14.00\" text-anchor=\"middle\" x=\"278\" y=\"-280.3\">(None, 8)</text>\n",
       "<polyline fill=\"none\" points=\"236.5,-272.5 319.5,-272.5 \" stroke=\"#000000\"/>\n",
       "<text fill=\"#000000\" font-family=\"Times,serif\" font-size=\"14.00\" text-anchor=\"middle\" x=\"278\" y=\"-257.3\">(None, 8)</text>\n",
       "</g>\n",
       "<!-- 140668734684944&#45;&gt;140668734187472 -->\n",
       "<g class=\"edge\" id=\"edge1\">\n",
       "<title>140668734684944-&gt;140668734187472</title>\n",
       "<path d=\"M180,-332.3799C180,-324.1745 180,-314.7679 180,-305.8786\" fill=\"none\" stroke=\"#000000\"/>\n",
       "<polygon fill=\"#000000\" points=\"183.5001,-305.784 180,-295.784 176.5001,-305.784 183.5001,-305.784\" stroke=\"#000000\"/>\n",
       "</g>\n",
       "<!-- 140668824760464 -->\n",
       "<g class=\"node\" id=\"node3\">\n",
       "<title>140668824760464</title>\n",
       "<polygon fill=\"none\" points=\"36,-166.5 36,-212.5 324,-212.5 324,-166.5 36,-166.5\" stroke=\"#000000\"/>\n",
       "<text fill=\"#000000\" font-family=\"Times,serif\" font-size=\"14.00\" text-anchor=\"middle\" x=\"100\" y=\"-185.8\">dense_2: Dense</text>\n",
       "<polyline fill=\"none\" points=\"164,-166.5 164,-212.5 \" stroke=\"#000000\"/>\n",
       "<text fill=\"#000000\" font-family=\"Times,serif\" font-size=\"14.00\" text-anchor=\"middle\" x=\"198\" y=\"-197.3\">input:</text>\n",
       "<polyline fill=\"none\" points=\"164,-189.5 232,-189.5 \" stroke=\"#000000\"/>\n",
       "<text fill=\"#000000\" font-family=\"Times,serif\" font-size=\"14.00\" text-anchor=\"middle\" x=\"198\" y=\"-174.3\">output:</text>\n",
       "<polyline fill=\"none\" points=\"232,-166.5 232,-212.5 \" stroke=\"#000000\"/>\n",
       "<text fill=\"#000000\" font-family=\"Times,serif\" font-size=\"14.00\" text-anchor=\"middle\" x=\"278\" y=\"-197.3\">(None, 8)</text>\n",
       "<polyline fill=\"none\" points=\"232,-189.5 324,-189.5 \" stroke=\"#000000\"/>\n",
       "<text fill=\"#000000\" font-family=\"Times,serif\" font-size=\"14.00\" text-anchor=\"middle\" x=\"278\" y=\"-174.3\">(None, 32)</text>\n",
       "</g>\n",
       "<!-- 140668734187472&#45;&gt;140668824760464 -->\n",
       "<g class=\"edge\" id=\"edge2\">\n",
       "<title>140668734187472-&gt;140668824760464</title>\n",
       "<path d=\"M180,-249.3799C180,-241.1745 180,-231.7679 180,-222.8786\" fill=\"none\" stroke=\"#000000\"/>\n",
       "<polygon fill=\"#000000\" points=\"183.5001,-222.784 180,-212.784 176.5001,-222.784 183.5001,-222.784\" stroke=\"#000000\"/>\n",
       "</g>\n",
       "<!-- 140668734600528 -->\n",
       "<g class=\"node\" id=\"node4\">\n",
       "<title>140668734600528</title>\n",
       "<polygon fill=\"none\" points=\"36,-83.5 36,-129.5 324,-129.5 324,-83.5 36,-83.5\" stroke=\"#000000\"/>\n",
       "<text fill=\"#000000\" font-family=\"Times,serif\" font-size=\"14.00\" text-anchor=\"middle\" x=\"100\" y=\"-102.8\">dense_3: Dense</text>\n",
       "<polyline fill=\"none\" points=\"164,-83.5 164,-129.5 \" stroke=\"#000000\"/>\n",
       "<text fill=\"#000000\" font-family=\"Times,serif\" font-size=\"14.00\" text-anchor=\"middle\" x=\"198\" y=\"-114.3\">input:</text>\n",
       "<polyline fill=\"none\" points=\"164,-106.5 232,-106.5 \" stroke=\"#000000\"/>\n",
       "<text fill=\"#000000\" font-family=\"Times,serif\" font-size=\"14.00\" text-anchor=\"middle\" x=\"198\" y=\"-91.3\">output:</text>\n",
       "<polyline fill=\"none\" points=\"232,-83.5 232,-129.5 \" stroke=\"#000000\"/>\n",
       "<text fill=\"#000000\" font-family=\"Times,serif\" font-size=\"14.00\" text-anchor=\"middle\" x=\"278\" y=\"-114.3\">(None, 32)</text>\n",
       "<polyline fill=\"none\" points=\"232,-106.5 324,-106.5 \" stroke=\"#000000\"/>\n",
       "<text fill=\"#000000\" font-family=\"Times,serif\" font-size=\"14.00\" text-anchor=\"middle\" x=\"278\" y=\"-91.3\">(None, 16)</text>\n",
       "</g>\n",
       "<!-- 140668824760464&#45;&gt;140668734600528 -->\n",
       "<g class=\"edge\" id=\"edge3\">\n",
       "<title>140668824760464-&gt;140668734600528</title>\n",
       "<path d=\"M180,-166.3799C180,-158.1745 180,-148.7679 180,-139.8786\" fill=\"none\" stroke=\"#000000\"/>\n",
       "<polygon fill=\"#000000\" points=\"183.5001,-139.784 180,-129.784 176.5001,-139.784 183.5001,-139.784\" stroke=\"#000000\"/>\n",
       "</g>\n",
       "<!-- 140668839506320 -->\n",
       "<g class=\"node\" id=\"node5\">\n",
       "<title>140668839506320</title>\n",
       "<polygon fill=\"none\" points=\"36,-.5 36,-46.5 324,-46.5 324,-.5 36,-.5\" stroke=\"#000000\"/>\n",
       "<text fill=\"#000000\" font-family=\"Times,serif\" font-size=\"14.00\" text-anchor=\"middle\" x=\"100\" y=\"-19.8\">dense_4: Dense</text>\n",
       "<polyline fill=\"none\" points=\"164,-.5 164,-46.5 \" stroke=\"#000000\"/>\n",
       "<text fill=\"#000000\" font-family=\"Times,serif\" font-size=\"14.00\" text-anchor=\"middle\" x=\"198\" y=\"-31.3\">input:</text>\n",
       "<polyline fill=\"none\" points=\"164,-23.5 232,-23.5 \" stroke=\"#000000\"/>\n",
       "<text fill=\"#000000\" font-family=\"Times,serif\" font-size=\"14.00\" text-anchor=\"middle\" x=\"198\" y=\"-8.3\">output:</text>\n",
       "<polyline fill=\"none\" points=\"232,-.5 232,-46.5 \" stroke=\"#000000\"/>\n",
       "<text fill=\"#000000\" font-family=\"Times,serif\" font-size=\"14.00\" text-anchor=\"middle\" x=\"278\" y=\"-31.3\">(None, 16)</text>\n",
       "<polyline fill=\"none\" points=\"232,-23.5 324,-23.5 \" stroke=\"#000000\"/>\n",
       "<text fill=\"#000000\" font-family=\"Times,serif\" font-size=\"14.00\" text-anchor=\"middle\" x=\"278\" y=\"-8.3\">(None, 1)</text>\n",
       "</g>\n",
       "<!-- 140668734600528&#45;&gt;140668839506320 -->\n",
       "<g class=\"edge\" id=\"edge4\">\n",
       "<title>140668734600528-&gt;140668839506320</title>\n",
       "<path d=\"M180,-83.3799C180,-75.1745 180,-65.7679 180,-56.8786\" fill=\"none\" stroke=\"#000000\"/>\n",
       "<polygon fill=\"#000000\" points=\"183.5001,-56.784 180,-46.784 176.5001,-56.784 183.5001,-56.784\" stroke=\"#000000\"/>\n",
       "</g>\n",
       "</g>\n",
       "</svg>"
      ],
      "text/plain": [
       "<IPython.core.display.SVG object>"
      ]
     },
     "execution_count": 20,
     "metadata": {},
     "output_type": "execute_result"
    }
   ],
   "source": [
    "SVG(model_to_dot(model, show_shapes=True, dpi=70).create(prog='dot', format='svg'))"
   ]
  },
  {
   "cell_type": "markdown",
   "metadata": {
    "colab_type": "text",
    "id": "S3wR6w-tPYPu"
   },
   "source": [
    "## Training"
   ]
  },
  {
   "cell_type": "code",
   "execution_count": null,
   "metadata": {
    "colab": {
     "base_uri": "https://localhost:8080/",
     "height": 105
    },
    "colab_type": "code",
    "executionInfo": {
     "elapsed": 8522,
     "status": "ok",
     "timestamp": 1564017911348,
     "user": {
      "displayName": "Amil Kabil",
      "photoUrl": "",
      "userId": "02528802352866201621"
     },
     "user_tz": 420
    },
    "id": "MaFFhI-CPYPu",
    "outputId": "8f1f62f1-750e-4dd7-bf56-d965b78c719e"
   },
   "outputs": [],
   "source": [
    "%%time\n",
    "\n",
    "history = model.fit(X_train.values, y_train, \n",
    "                    validation_data=(X_test.values, y_test), \n",
    "                    epochs=100, \n",
    "                    batch_size=32, \n",
    "                    verbose=0)"
   ]
  },
  {
   "cell_type": "markdown",
   "metadata": {
    "colab_type": "text",
    "id": "8UaVbw2tPYPx"
   },
   "source": [
    "History is the dictionary which stores the metrics during training"
   ]
  },
  {
   "cell_type": "code",
   "execution_count": null,
   "metadata": {
    "colab": {
     "base_uri": "https://localhost:8080/",
     "height": 34
    },
    "colab_type": "code",
    "executionInfo": {
     "elapsed": 8517,
     "status": "ok",
     "timestamp": 1564017911349,
     "user": {
      "displayName": "Amil Kabil",
      "photoUrl": "",
      "userId": "02528802352866201621"
     },
     "user_tz": 420
    },
    "id": "wh-70hyIPYPx",
    "outputId": "321925b0-6b60-4cc2-c45a-13430d8b613f"
   },
   "outputs": [],
   "source": [
    "history.history.keys()"
   ]
  },
  {
   "cell_type": "code",
   "execution_count": 20,
   "metadata": {
    "colab": {
     "base_uri": "https://localhost:8080/",
     "height": 514
    },
    "colab_type": "code",
    "executionInfo": {
     "elapsed": 9335,
     "status": "ok",
     "timestamp": 1564017912176,
     "user": {
      "displayName": "Amil Kabil",
      "photoUrl": "",
      "userId": "02528802352866201621"
     },
     "user_tz": 420
    },
    "id": "caaEwgFiPYP0",
    "outputId": "d1c06c2b-c347-423c-eeee-ba4f59f99ad4"
   },
   "outputs": [
    {
     "data": {
      "image/png": "[encoded data removed]",
      "text/plain": [
       "<Figure size 1440x576 with 2 Axes>"
      ]
     },
     "metadata": {
      "tags": []
     },
     "output_type": "display_data"
    }
   ],
   "source": [
    "plt.figure(figsize=(20, 8))\n",
    "# summarize history for accuracy\n",
    "plt.subplot(121)\n",
    "plt.plot(history.history['acc'], label=\"Train\")\n",
    "plt.plot(history.history['val_acc'], label=\"Test\")\n",
    "plt.ylabel(\"Accuracy, %\")\n",
    "plt.xlabel(\"Epoch\")\n",
    "plt.legend()\n",
    "# summarize history for loss\n",
    "plt.subplot(122)\n",
    "plt.plot(history.history['loss'], label=\"Train\")\n",
    "plt.plot(history.history['val_loss'], label=\"Test\")\n",
    "plt.ylabel('Binary Crossentropy')\n",
    "plt.xlabel(\"Epoch\")\n",
    "plt.legend();"
   ]
  },
  {
   "cell_type": "markdown",
   "metadata": {
    "colab_type": "text",
    "id": "vgZoEx2DPYP2"
   },
   "source": [
    "One can notice very high variability of accuracy. It is essential because accuracy is very unstable metric - for one example it can be either 0 or 1. To get smooth accuracy curves one need to average across a lot of examples while we have only about 500."
   ]
  },
  {
   "cell_type": "markdown",
   "metadata": {
    "colab_type": "text",
    "id": "mUoDnITWPYP2"
   },
   "source": [
    "## Metrics"
   ]
  },
  {
   "cell_type": "markdown",
   "metadata": {
    "colab_type": "text",
    "id": "bQ0cdZsrPYP3"
   },
   "source": [
    "Now let's measure the quality of the model"
   ]
  },
  {
   "cell_type": "code",
   "execution_count": 21,
   "metadata": {
    "colab": {
     "base_uri": "https://localhost:8080/",
     "height": 51
    },
    "colab_type": "code",
    "executionInfo": {
     "elapsed": 9326,
     "status": "ok",
     "timestamp": 1564017912177,
     "user": {
      "displayName": "Amil Kabil",
      "photoUrl": "",
      "userId": "02528802352866201621"
     },
     "user_tz": 420
    },
    "id": "oXpa8AybPYP4",
    "outputId": "ac592a11-bce2-4eba-a35a-737fa4acbc1e"
   },
   "outputs": [
    {
     "name": "stdout",
     "output_type": "stream",
     "text": [
      "CPU times: user 4 µs, sys: 1e+03 ns, total: 5 µs\n",
      "Wall time: 9.54 µs\n"
     ]
    }
   ],
   "source": [
    "%time \n",
    "preds_test = model.predict_classes(X_test.values, verbose=0)"
   ]
  },
  {
   "cell_type": "code",
   "execution_count": 22,
   "metadata": {
    "colab": {
     "base_uri": "https://localhost:8080/",
     "height": 51
    },
    "colab_type": "code",
    "executionInfo": {
     "elapsed": 9321,
     "status": "ok",
     "timestamp": 1564017912178,
     "user": {
      "displayName": "Amil Kabil",
      "photoUrl": "",
      "userId": "02528802352866201621"
     },
     "user_tz": 420
    },
    "id": "JmsEjT-6PYP_",
    "outputId": "a7c1aa3e-6bc8-482d-e1bb-283f0c235d17"
   },
   "outputs": [
    {
     "name": "stdout",
     "output_type": "stream",
     "text": [
      "CPU times: user 3 µs, sys: 1e+03 ns, total: 4 µs\n",
      "Wall time: 9.3 µs\n"
     ]
    }
   ],
   "source": [
    "%time \n",
    "preds_train = model.predict_classes(X_train.values, verbose=0)"
   ]
  },
  {
   "cell_type": "markdown",
   "metadata": {
    "colab_type": "text",
    "id": "JR1Cw4FcPYQD"
   },
   "source": [
    " Confusion matrix, Precision, Recall, F1-Scores"
   ]
  },
  {
   "cell_type": "code",
   "execution_count": 23,
   "metadata": {
    "colab": {
     "base_uri": "https://localhost:8080/",
     "height": 255
    },
    "colab_type": "code",
    "executionInfo": {
     "elapsed": 9317,
     "status": "ok",
     "timestamp": 1564017912180,
     "user": {
      "displayName": "Amil Kabil",
      "photoUrl": "",
      "userId": "02528802352866201621"
     },
     "user_tz": 420
    },
    "id": "5qyKS6moPYQE",
    "outputId": "4a61804a-97eb-4f4b-aa4b-3569f2a1c431"
   },
   "outputs": [
    {
     "name": "stdout",
     "output_type": "stream",
     "text": [
      "CONFUSION MATRIX:\n",
      "[[127  24]\n",
      " [ 41  39]]\n",
      "----------------------------------------\n",
      "METRICS:\n",
      "              precision    recall  f1-score   support\n",
      "\n",
      "           0       0.77      0.75      0.76       151\n",
      "           1       0.55      0.56      0.56        80\n",
      "\n",
      "    accuracy                           0.69       231\n",
      "   macro avg       0.66      0.66      0.66       231\n",
      "weighted avg       0.69      0.69      0.69       231\n",
      "\n"
     ]
    }
   ],
   "source": [
    "print(\"CONFUSION MATRIX:\")\n",
    "print(confusion_matrix(y_test, y_pred))\n",
    "print(\"----------------------------------------\\nMETRICS:\")\n",
    "print(classification_report(y_test, preds_test))"
   ]
  },
  {
   "cell_type": "code",
   "execution_count": null,
   "metadata": {
    "colab": {},
    "colab_type": "code",
    "id": "xfdEl-IDPYQG"
   },
   "outputs": [],
   "source": [
    "cm_train = confusion_matrix(y_train, preds_train).astype(np.float32)\n",
    "cm_train /= cm_train.sum(axis=1)[:, np.newaxis]\n",
    "\n",
    "cm_test = confusion_matrix(y_test, preds_test).astype(np.float32)\n",
    "cm_test /= cm_test.sum(axis=1)[:, np.newaxis]"
   ]
  },
  {
   "cell_type": "code",
   "execution_count": 25,
   "metadata": {
    "colab": {
     "base_uri": "https://localhost:8080/",
     "height": 524
    },
    "colab_type": "code",
    "executionInfo": {
     "elapsed": 10124,
     "status": "ok",
     "timestamp": 1564017913006,
     "user": {
      "displayName": "Amil Kabil",
      "photoUrl": "",
      "userId": "02528802352866201621"
     },
     "user_tz": 420
    },
    "id": "JlWwRvdUPYQI",
    "outputId": "865db527-7091-4bb7-88d8-04756d6c4283"
   },
   "outputs": [
    {
     "data": {
      "image/png": "[encoded data removed]",
      "text/plain": [
       "<Figure size 1440x576 with 4 Axes>"
      ]
     },
     "metadata": {
      "tags": []
     },
     "output_type": "display_data"
    }
   ],
   "source": [
    "plt.figure(figsize=(20, 8))\n",
    "class_labels = [\"No diabet\", \"Diabet\"]\n",
    "\n",
    "plt.subplot(121)\n",
    "g = sns.heatmap(cm_train, vmin=0.2, vmax=1, annot=True, annot_kws={\"fontsize\": 14}, cmap=\"Reds\")\n",
    "plt.xlabel(\"Predicted\", fontsize=14)\n",
    "plt.ylabel(\"True\", fontsize=14)\n",
    "g.set(xticklabels=class_labels, yticklabels=class_labels)\n",
    "plt.title(\"Train\", fontsize=14)\n",
    "\n",
    "plt.subplot(122)\n",
    "g = sns.heatmap(cm_test, vmin=0.2, vmax=1, annot=True, annot_kws={\"fontsize\": 14}, cmap=\"Reds\")\n",
    "plt.xlabel(\"Predicted\", fontsize=14)\n",
    "plt.ylabel(\"True\", fontsize=14)\n",
    "g.set(xticklabels=class_labels, yticklabels=class_labels)\n",
    "plt.title(\"Test\", fontsize=14);"
   ]
  },
  {
   "cell_type": "markdown",
   "metadata": {
    "colab_type": "text",
    "id": "s3CDuOiEPYQK"
   },
   "source": [
    "# TASK\n",
    "QUIZ: change the activation function to sigmoid for hidden layers\n",
    "\n",
    "Comment on what you see after 200 iterations the ReLU based network versus the sigmoid-based network"
   ]
  },
  {
   "cell_type": "code",
   "execution_count": null,
   "metadata": {
    "colab": {},
    "colab_type": "code",
    "id": "xOWeatISPYQL"
   },
   "outputs": [],
   "source": []
  }
 ],
 "metadata": {
  "anaconda-cloud": {},
  "colab": {
   "name": "MLPPimaDiabetes.ipynb",
   "provenance": [],
   "toc_visible": true,
   "version": "0.3.2"
  },
  "kernelspec": {
   "display_name": "Python 3",
   "language": "python",
   "name": "python3"
  },
  "language_info": {
   "codemirror_mode": {
    "name": "ipython",
    "version": 3
   },
   "file_extension": ".py",
   "mimetype": "text/x-python",
   "name": "python",
   "nbconvert_exporter": "python",
   "pygments_lexer": "ipython3",
   "version": "3.7.4"
  },
  "toc": {
   "base_numbering": 1,
   "nav_menu": {
    "height": "228px",
    "width": "252px"
   },
   "number_sections": true,
   "sideBar": true,
   "skip_h1_title": false,
   "title_cell": "Table of Contents",
   "title_sidebar": "Contents",
   "toc_cell": true,
   "toc_position": {},
   "toc_section_display": "block",
   "toc_window_display": true
  }
 },
 "nbformat": 4,
 "nbformat_minor": 4
}
