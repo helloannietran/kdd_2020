{
 "cells": [
  {
   "cell_type": "markdown",
   "metadata": {},
   "source": [
    "# Convolutional Neural Networks"
   ]
  },
  {
   "cell_type": "markdown",
   "metadata": {},
   "source": [
    "In this notebook we're going to explore handwritten digit recognition task using MNIST database and CNNs"
   ]
  },
  {
   "cell_type": "code",
   "execution_count": 50,
   "metadata": {},
   "outputs": [],
   "source": [
    "import numpy as np\n",
    "import pandas as pd\n",
    "\n",
    "from keras.datasets import mnist\n",
    "from keras.models import Sequential\n",
    "from keras.layers import Dense, Dropout, Activation, Flatten\n",
    "from keras.layers import Convolution2D, MaxPooling2D\n",
    "from keras.utils.np_utils import to_categorical\n",
    "from keras import backend as K\n",
    "from keras.utils.vis_utils import model_to_dot\n",
    "\n",
    "from IPython.display import SVG\n",
    "\n",
    "import matplotlib\n",
    "import matplotlib.pyplot as plt\n",
    "import seaborn as sns\n",
    "%matplotlib inline"
   ]
  },
  {
   "cell_type": "markdown",
   "metadata": {},
   "source": [
    "Set style"
   ]
  },
  {
   "cell_type": "code",
   "execution_count": 51,
   "metadata": {},
   "outputs": [],
   "source": [
    "sns.set(style=\"whitegrid\", font_scale=1.3)\n",
    "matplotlib.rcParams[\"figure.figsize\"] = (10, 8)\n",
    "matplotlib.rcParams[\"legend.framealpha\"] = 1\n",
    "matplotlib.rcParams[\"legend.frameon\"] = True"
   ]
  },
  {
   "cell_type": "markdown",
   "metadata": {},
   "source": [
    "Just for the sake of reproducibility"
   ]
  },
  {
   "cell_type": "code",
   "execution_count": 52,
   "metadata": {},
   "outputs": [],
   "source": [
    "np.random.seed(41)"
   ]
  },
  {
   "cell_type": "markdown",
   "metadata": {},
   "source": [
    "# Data"
   ]
  },
  {
   "cell_type": "markdown",
   "metadata": {},
   "source": [
    "In this tutorial we're going to use MNIST dataset with handwritten digits."
   ]
  },
  {
   "cell_type": "markdown",
   "metadata": {},
   "source": [
    "## MNIST overview"
   ]
  },
  {
   "cell_type": "markdown",
   "metadata": {},
   "source": [
    "Let's download MNIST dataset. There is a special function in Keras for that purpose (because MNIST is extremely popular)"
   ]
  },
  {
   "cell_type": "code",
   "execution_count": 53,
   "metadata": {},
   "outputs": [
    {
     "name": "stdout",
     "output_type": "stream",
     "text": [
      "X before flatten train      shape: (48000, 28, 28)\n",
      "X before flatten validation shape: (12000, 28, 28)\n",
      "X before flatten test       shape: (10000, 28, 28)\n"
     ]
    }
   ],
   "source": [
    "# load MNIST data\n",
    "from sklearn.model_selection import train_test_split\n",
    "(X_train, y_train), (X_test, y_test) = mnist.load_data()\n",
    "X_train, X_valid, y_train, y_valid = train_test_split(X_train, y_train, test_size=0.20, random_state=42)\n",
    "img_rows, img_cols = 28, 28\n",
    "number_of_classes = 10\n",
    "print(f\"X before flatten train      shape: {X_train.shape}\")\n",
    "print(f\"X before flatten validation shape: {X_valid.shape}\")\n",
    "print(f\"X before flatten test       shape: {X_test.shape}\")"
   ]
  },
  {
   "cell_type": "code",
   "execution_count": 54,
   "metadata": {},
   "outputs": [
    {
     "data": {
      "text/plain": [
       "(48000, 28, 28)"
      ]
     },
     "execution_count": 54,
     "metadata": {},
     "output_type": "execute_result"
    }
   ],
   "source": [
    "X_train.shape"
   ]
  },
  {
   "cell_type": "code",
   "execution_count": 55,
   "metadata": {},
   "outputs": [
    {
     "data": {
      "image/png": "[encoded data removed]",
      "text/plain": [
       "<Figure size 864x360 with 10 Axes>"
      ]
     },
     "metadata": {},
     "output_type": "display_data"
    }
   ],
   "source": [
    "plt.figure(figsize=(12, 5))\n",
    "for num, i in enumerate(np.random.choice(len(X_train), 10)):\n",
    "    plt.subplot(2, 5, num + 1)\n",
    "    plt.imshow(X_train[i], cmap=\"Greys_r\")\n",
    "    plt.axis(\"off\")\n",
    "    plt.title(str(y_train[i]))"
   ]
  },
  {
   "cell_type": "markdown",
   "metadata": {},
   "source": [
    "Let's see objects are distributed among classes"
   ]
  },
  {
   "cell_type": "code",
   "execution_count": 56,
   "metadata": {},
   "outputs": [
    {
     "data": {
      "image/png": "[encoded data removed]",
      "text/plain": [
       "<Figure size 720x576 with 1 Axes>"
      ]
     },
     "metadata": {},
     "output_type": "display_data"
    }
   ],
   "source": [
    "x_bars, y_bars = np.unique(y_train, return_counts=True)\n",
    "plt.bar(x_bars, y_bars)\n",
    "plt.xlim([-1, 10])\n",
    "plt.xticks(np.arange(0, 10))\n",
    "plt.xlabel(\"Digit\", fontsize=14)\n",
    "plt.ylabel(\"Number of pics\", fontsize=14)\n",
    "plt.show()"
   ]
  },
  {
   "cell_type": "markdown",
   "metadata": {},
   "source": [
    "As one can see, the task is pretty balanced"
   ]
  },
  {
   "cell_type": "markdown",
   "metadata": {},
   "source": [
    "## Data preparation"
   ]
  },
  {
   "cell_type": "markdown",
   "metadata": {},
   "source": [
    "First of all, let's predefine image parameters:\n",
    "* **img_rows, img_cols** $-$ 2D dimension of a pictures; for MNIST it is $28 \\times 28$\n",
    "* **nb_classes** $-$ number of classes (digits in our case)"
   ]
  },
  {
   "cell_type": "code",
   "execution_count": 57,
   "metadata": {},
   "outputs": [],
   "source": [
    "img_rows, img_cols = 28, 28\n",
    "nb_classes = 10"
   ]
  },
  {
   "cell_type": "markdown",
   "metadata": {},
   "source": [
    "Theano and Tensorflow both are tensor-based libraries. It means that all objects inside it, all inputs and outputs are **tensors**. One can treat tensor as a simple multidimensional array."
   ]
  },
  {
   "cell_type": "markdown",
   "metadata": {},
   "source": [
    "The thing that is different in Theano and Tensorflow is order of these dimensions inside tensor.\n",
    "\n",
    "With Theano yo're going to have 4-dimensional tensor with the following dimensions: **(Objects, Channels, Image rows,Image columns)**. Assume that $\\text{X_train}$ is our tensor. Then $\\text{X_train}[0]$ gives you one trainig object - it is an image with few channels in general case. $\\text{X_train}[0][0]$ gives you the first channel of the first object. And so on. The logic of tensors should be clear now.\n",
    "\n",
    "In Tensorflow the order is the following: **(Objects, Image rows,Image columns, Channels)**\n",
    "\n",
    "Thus we need to check what dimension order do we have and reshape our tensor in accordance with it:"
   ]
  },
  {
   "cell_type": "code",
   "execution_count": 58,
   "metadata": {},
   "outputs": [],
   "source": [
    "if K.image_dim_ordering() == 'th':\n",
    "    X_train = X_train.reshape(X_train.shape[0], 1, img_rows, img_cols)\n",
    "    X_test = X_test.reshape(X_test.shape[0], 1, img_rows, img_cols)\n",
    "    input_shape = (1, img_rows, img_cols)\n",
    "else:\n",
    "    X_train = X_train.reshape(X_train.shape[0], img_rows, img_cols, 1)\n",
    "    X_test = X_test.reshape(X_test.shape[0], img_rows, img_cols, 1)\n",
    "    input_shape = (img_rows, img_cols, 1)"
   ]
  },
  {
   "cell_type": "markdown",
   "metadata": {},
   "source": [
    "Here we have grayscale image and thus the number of the channels is $1$. Here I used Tensorflow library with the corresponding order of dimensions"
   ]
  },
  {
   "cell_type": "code",
   "execution_count": 59,
   "metadata": {},
   "outputs": [
    {
     "name": "stdout",
     "output_type": "stream",
     "text": [
      "X_train shape: (48000, 28, 28, 1)\n"
     ]
    }
   ],
   "source": [
    "print('X_train shape:', X_train.shape)"
   ]
  },
  {
   "cell_type": "markdown",
   "metadata": {},
   "source": [
    "Tensorflow prefers to work with $\\text{float32}$ data type. So the next step is to cast data. Also let's have our data in $[0; 1]$ interval $-$ it's common choice for grayscale images."
   ]
  },
  {
   "cell_type": "code",
   "execution_count": 60,
   "metadata": {},
   "outputs": [
    {
     "name": "stdout",
     "output_type": "stream",
     "text": [
      "X train      shape: (48000, 784), (48000,)\n",
      "X validation shape: (12000, 784),  (12000,)\n",
      "X test       shape: (10000, 784),  (10000,)\n"
     ]
    }
   ],
   "source": [
    "#Here we're going to use dense baseline models so we need to represent our data as 1-dimensional vectors\n",
    "#So we flatten input images to 1D vectors \n",
    "X_train = X_train.reshape(X_train.shape[0], -1)\n",
    "X_valid = X_valid.reshape(X_valid.shape[0], -1)\n",
    "X_test  = X_test.reshape(X_test.shape[0], -1)\n",
    "\n",
    "# Tensorflow/Keras prefers to work with float32 data type. \n",
    "# So the next step is to cast data. \n",
    "# Also let's have our data in [0; 1]interval; it's common choice for grayscale images.\n",
    "\n",
    "X_train = X_train.astype('float32')\n",
    "X_valid = X_valid.astype('float32')\n",
    "X_test = X_test.astype('float32')\n",
    "X_train /= 255\n",
    "X_valid /= 255\n",
    "X_test /= 255\n",
    "print(f\"X train      shape: {X_train.shape}, {y_train.shape}\")\n",
    "print(f\"X validation shape: {X_valid.shape},  {y_valid.shape}\")\n",
    "print(f\"X test       shape: {X_test.shape},  {y_test.shape}\")\n",
    "X_train = X_train.astype('float32')\n",
    "X_test = X_test.astype('float32')\n",
    "X_train /= 255\n",
    "X_test /= 255"
   ]
  },
  {
   "cell_type": "markdown",
   "metadata": {},
   "source": [
    "## Setup the MNIST data\n",
    "Setup the MNIST data. Here we use  **digits 0 to 9**. "
   ]
  },
  {
   "cell_type": "markdown",
   "metadata": {},
   "source": [
    "Convert labels into [One-Hot Encoding](https://en.wikipedia.org/wiki/One-hot) because we're going to learn them through the softmax layer of CNN"
   ]
  },
  {
   "cell_type": "code",
   "execution_count": 61,
   "metadata": {},
   "outputs": [],
   "source": [
    "y_train = to_categorical(y_train, nb_classes)\n",
    "y_valid = to_categorical(y_valid, nb_classes)\n",
    "y_test  = to_categorical(y_test, nb_classes)"
   ]
  },
  {
   "cell_type": "code",
   "execution_count": 62,
   "metadata": {},
   "outputs": [
    {
     "name": "stdout",
     "output_type": "stream",
     "text": [
      "X train      shape: (48000, 784), (48000, 10)\n",
      "X validation shape: (12000, 784),  (12000, 10)\n",
      "X test       shape: (10000, 784),  (10000, 10)\n"
     ]
    }
   ],
   "source": [
    "print(f\"X train      shape: {X_train.shape}, {y_train.shape}\")\n",
    "print(f\"X validation shape: {X_valid.shape},  {y_valid.shape}\")\n",
    "print(f\"X test       shape: {X_test.shape},  {y_test.shape}\")"
   ]
  },
  {
   "cell_type": "code",
   "execution_count": null,
   "metadata": {},
   "outputs": [],
   "source": []
  },
  {
   "cell_type": "markdown",
   "metadata": {},
   "source": [
    "# Baseline model: Dense MLP model"
   ]
  },
  {
   "cell_type": "markdown",
   "metadata": {},
   "source": [
    "First of all, let's build MLP model as a baseline and see how it performs."
   ]
  },
  {
   "cell_type": "code",
   "execution_count": 63,
   "metadata": {},
   "outputs": [],
   "source": [
    "model_dense = Sequential()"
   ]
  },
  {
   "cell_type": "code",
   "execution_count": 64,
   "metadata": {},
   "outputs": [],
   "source": [
    "model_dense.add(Dense(128, input_shape=(img_rows * img_cols,), activation=\"relu\"))\n",
    "model_dense.add(Dropout(0.5))\n",
    "model_dense.add(Dense(128, activation=\"relu\"))\n",
    "model_dense.add(Dropout(0.5))\n",
    "model_dense.add(Dense(128, activation=\"relu\"))\n",
    "model_dense.add(Dropout(0.5))\n",
    "model_dense.add(Dense(nb_classes, activation=\"softmax\"))"
   ]
  },
  {
   "cell_type": "markdown",
   "metadata": {},
   "source": [
    "Our model the the following architercture"
   ]
  },
  {
   "cell_type": "code",
   "execution_count": 65,
   "metadata": {},
   "outputs": [
    {
     "name": "stdout",
     "output_type": "stream",
     "text": [
      "_________________________________________________________________\n",
      "Layer (type)                 Output Shape              Param #   \n",
      "=================================================================\n",
      "dense_7 (Dense)              (None, 128)               100480    \n",
      "_________________________________________________________________\n",
      "dropout_6 (Dropout)          (None, 128)               0         \n",
      "_________________________________________________________________\n",
      "dense_8 (Dense)              (None, 128)               16512     \n",
      "_________________________________________________________________\n",
      "dropout_7 (Dropout)          (None, 128)               0         \n",
      "_________________________________________________________________\n",
      "dense_9 (Dense)              (None, 128)               16512     \n",
      "_________________________________________________________________\n",
      "dropout_8 (Dropout)          (None, 128)               0         \n",
      "_________________________________________________________________\n",
      "dense_10 (Dense)             (None, 10)                1290      \n",
      "=================================================================\n",
      "Total params: 134,794\n",
      "Trainable params: 134,794\n",
      "Non-trainable params: 0\n",
      "_________________________________________________________________\n"
     ]
    }
   ],
   "source": [
    "model_dense.summary()"
   ]
  },
  {
   "cell_type": "code",
   "execution_count": 66,
   "metadata": {},
   "outputs": [
    {
     "data": {
      "image/svg+xml": [
       "<svg height=\"651pt\" viewBox=\"0.00 0.00 274.91 651.20\" width=\"275pt\" xmlns=\"http://www.w3.org/2000/svg\" xmlns:xlink=\"http://www.w3.org/1999/xlink\">\n",
       "<g class=\"graph\" id=\"graph0\" transform=\"scale(1 1) rotate(0) translate(4 647.2)\">\n",
       "<title>G</title>\n",
       "<polygon fill=\"#ffffff\" points=\"-4,4 -4,-647.2 270.9138,-647.2 270.9138,4 -4,4\" stroke=\"transparent\"/>\n",
       "<!-- 140716034333776 -->\n",
       "<g class=\"node\" id=\"node1\">\n",
       "<title>140716034333776</title>\n",
       "<polygon fill=\"none\" points=\"11.6774,-520.1 11.6774,-569.7 255.2364,-569.7 255.2364,-520.1 11.6774,-520.1\" stroke=\"#000000\"/>\n",
       "<text fill=\"#000000\" font-family=\"Times,serif\" font-size=\"14.00\" text-anchor=\"middle\" x=\"63.7998\" y=\"-540.7\">dense_7: Dense</text>\n",
       "<polyline fill=\"none\" points=\"115.9222,-520.1 115.9222,-569.7 \" stroke=\"#000000\"/>\n",
       "<text fill=\"#000000\" font-family=\"Times,serif\" font-size=\"14.00\" text-anchor=\"middle\" x=\"143.7581\" y=\"-553.1\">input:</text>\n",
       "<polyline fill=\"none\" points=\"115.9222,-544.9 171.594,-544.9 \" stroke=\"#000000\"/>\n",
       "<text fill=\"#000000\" font-family=\"Times,serif\" font-size=\"14.00\" text-anchor=\"middle\" x=\"143.7581\" y=\"-528.3\">output:</text>\n",
       "<polyline fill=\"none\" points=\"171.594,-520.1 171.594,-569.7 \" stroke=\"#000000\"/>\n",
       "<text fill=\"#000000\" font-family=\"Times,serif\" font-size=\"14.00\" text-anchor=\"middle\" x=\"213.4152\" y=\"-553.1\">(None, 784)</text>\n",
       "<polyline fill=\"none\" points=\"171.594,-544.9 255.2364,-544.9 \" stroke=\"#000000\"/>\n",
       "<text fill=\"#000000\" font-family=\"Times,serif\" font-size=\"14.00\" text-anchor=\"middle\" x=\"213.4152\" y=\"-528.3\">(None, 128)</text>\n",
       "</g>\n",
       "<!-- 140716034333608 -->\n",
       "<g class=\"node\" id=\"node2\">\n",
       "<title>140716034333608</title>\n",
       "<polygon fill=\"none\" points=\"0,-433.5 0,-483.1 266.9138,-483.1 266.9138,-433.5 0,-433.5\" stroke=\"#000000\"/>\n",
       "<text fill=\"#000000\" font-family=\"Times,serif\" font-size=\"14.00\" text-anchor=\"middle\" x=\"63.7998\" y=\"-454.1\">dropout_6: Dropout</text>\n",
       "<polyline fill=\"none\" points=\"127.5996,-433.5 127.5996,-483.1 \" stroke=\"#000000\"/>\n",
       "<text fill=\"#000000\" font-family=\"Times,serif\" font-size=\"14.00\" text-anchor=\"middle\" x=\"155.4355\" y=\"-466.5\">input:</text>\n",
       "<polyline fill=\"none\" points=\"127.5996,-458.3 183.2714,-458.3 \" stroke=\"#000000\"/>\n",
       "<text fill=\"#000000\" font-family=\"Times,serif\" font-size=\"14.00\" text-anchor=\"middle\" x=\"155.4355\" y=\"-441.7\">output:</text>\n",
       "<polyline fill=\"none\" points=\"183.2714,-433.5 183.2714,-483.1 \" stroke=\"#000000\"/>\n",
       "<text fill=\"#000000\" font-family=\"Times,serif\" font-size=\"14.00\" text-anchor=\"middle\" x=\"225.0926\" y=\"-466.5\">(None, 128)</text>\n",
       "<polyline fill=\"none\" points=\"183.2714,-458.3 266.9138,-458.3 \" stroke=\"#000000\"/>\n",
       "<text fill=\"#000000\" font-family=\"Times,serif\" font-size=\"14.00\" text-anchor=\"middle\" x=\"225.0926\" y=\"-441.7\">(None, 128)</text>\n",
       "</g>\n",
       "<!-- 140716034333776&#45;&gt;140716034333608 -->\n",
       "<g class=\"edge\" id=\"edge2\">\n",
       "<title>140716034333776-&gt;140716034333608</title>\n",
       "<path d=\"M133.4569,-519.8517C133.4569,-511.5937 133.4569,-502.2517 133.4569,-493.3864\" fill=\"none\" stroke=\"#000000\"/>\n",
       "<polygon fill=\"#000000\" points=\"136.957,-493.292 133.4569,-483.292 129.957,-493.292 136.957,-493.292\" stroke=\"#000000\"/>\n",
       "</g>\n",
       "<!-- 140716034330696 -->\n",
       "<g class=\"node\" id=\"node3\">\n",
       "<title>140716034330696</title>\n",
       "<polygon fill=\"none\" points=\"11.6774,-346.9 11.6774,-396.5 255.2364,-396.5 255.2364,-346.9 11.6774,-346.9\" stroke=\"#000000\"/>\n",
       "<text fill=\"#000000\" font-family=\"Times,serif\" font-size=\"14.00\" text-anchor=\"middle\" x=\"63.7998\" y=\"-367.5\">dense_8: Dense</text>\n",
       "<polyline fill=\"none\" points=\"115.9222,-346.9 115.9222,-396.5 \" stroke=\"#000000\"/>\n",
       "<text fill=\"#000000\" font-family=\"Times,serif\" font-size=\"14.00\" text-anchor=\"middle\" x=\"143.7581\" y=\"-379.9\">input:</text>\n",
       "<polyline fill=\"none\" points=\"115.9222,-371.7 171.594,-371.7 \" stroke=\"#000000\"/>\n",
       "<text fill=\"#000000\" font-family=\"Times,serif\" font-size=\"14.00\" text-anchor=\"middle\" x=\"143.7581\" y=\"-355.1\">output:</text>\n",
       "<polyline fill=\"none\" points=\"171.594,-346.9 171.594,-396.5 \" stroke=\"#000000\"/>\n",
       "<text fill=\"#000000\" font-family=\"Times,serif\" font-size=\"14.00\" text-anchor=\"middle\" x=\"213.4152\" y=\"-379.9\">(None, 128)</text>\n",
       "<polyline fill=\"none\" points=\"171.594,-371.7 255.2364,-371.7 \" stroke=\"#000000\"/>\n",
       "<text fill=\"#000000\" font-family=\"Times,serif\" font-size=\"14.00\" text-anchor=\"middle\" x=\"213.4152\" y=\"-355.1\">(None, 128)</text>\n",
       "</g>\n",
       "<!-- 140716034333608&#45;&gt;140716034330696 -->\n",
       "<g class=\"edge\" id=\"edge3\">\n",
       "<title>140716034333608-&gt;140716034330696</title>\n",
       "<path d=\"M133.4569,-433.2517C133.4569,-424.9937 133.4569,-415.6517 133.4569,-406.7864\" fill=\"none\" stroke=\"#000000\"/>\n",
       "<polygon fill=\"#000000\" points=\"136.957,-406.692 133.4569,-396.692 129.957,-406.692 136.957,-406.692\" stroke=\"#000000\"/>\n",
       "</g>\n",
       "<!-- 140716034334280 -->\n",
       "<g class=\"node\" id=\"node4\">\n",
       "<title>140716034334280</title>\n",
       "<polygon fill=\"none\" points=\"0,-260.3 0,-309.9 266.9138,-309.9 266.9138,-260.3 0,-260.3\" stroke=\"#000000\"/>\n",
       "<text fill=\"#000000\" font-family=\"Times,serif\" font-size=\"14.00\" text-anchor=\"middle\" x=\"63.7998\" y=\"-280.9\">dropout_7: Dropout</text>\n",
       "<polyline fill=\"none\" points=\"127.5996,-260.3 127.5996,-309.9 \" stroke=\"#000000\"/>\n",
       "<text fill=\"#000000\" font-family=\"Times,serif\" font-size=\"14.00\" text-anchor=\"middle\" x=\"155.4355\" y=\"-293.3\">input:</text>\n",
       "<polyline fill=\"none\" points=\"127.5996,-285.1 183.2714,-285.1 \" stroke=\"#000000\"/>\n",
       "<text fill=\"#000000\" font-family=\"Times,serif\" font-size=\"14.00\" text-anchor=\"middle\" x=\"155.4355\" y=\"-268.5\">output:</text>\n",
       "<polyline fill=\"none\" points=\"183.2714,-260.3 183.2714,-309.9 \" stroke=\"#000000\"/>\n",
       "<text fill=\"#000000\" font-family=\"Times,serif\" font-size=\"14.00\" text-anchor=\"middle\" x=\"225.0926\" y=\"-293.3\">(None, 128)</text>\n",
       "<polyline fill=\"none\" points=\"183.2714,-285.1 266.9138,-285.1 \" stroke=\"#000000\"/>\n",
       "<text fill=\"#000000\" font-family=\"Times,serif\" font-size=\"14.00\" text-anchor=\"middle\" x=\"225.0926\" y=\"-268.5\">(None, 128)</text>\n",
       "</g>\n",
       "<!-- 140716034330696&#45;&gt;140716034334280 -->\n",
       "<g class=\"edge\" id=\"edge4\">\n",
       "<title>140716034330696-&gt;140716034334280</title>\n",
       "<path d=\"M133.4569,-346.6517C133.4569,-338.3937 133.4569,-329.0517 133.4569,-320.1864\" fill=\"none\" stroke=\"#000000\"/>\n",
       "<polygon fill=\"#000000\" points=\"136.957,-320.092 133.4569,-310.092 129.957,-320.092 136.957,-320.092\" stroke=\"#000000\"/>\n",
       "</g>\n",
       "<!-- 140716034332768 -->\n",
       "<g class=\"node\" id=\"node5\">\n",
       "<title>140716034332768</title>\n",
       "<polygon fill=\"none\" points=\"11.6774,-173.7 11.6774,-223.3 255.2364,-223.3 255.2364,-173.7 11.6774,-173.7\" stroke=\"#000000\"/>\n",
       "<text fill=\"#000000\" font-family=\"Times,serif\" font-size=\"14.00\" text-anchor=\"middle\" x=\"63.7998\" y=\"-194.3\">dense_9: Dense</text>\n",
       "<polyline fill=\"none\" points=\"115.9222,-173.7 115.9222,-223.3 \" stroke=\"#000000\"/>\n",
       "<text fill=\"#000000\" font-family=\"Times,serif\" font-size=\"14.00\" text-anchor=\"middle\" x=\"143.7581\" y=\"-206.7\">input:</text>\n",
       "<polyline fill=\"none\" points=\"115.9222,-198.5 171.594,-198.5 \" stroke=\"#000000\"/>\n",
       "<text fill=\"#000000\" font-family=\"Times,serif\" font-size=\"14.00\" text-anchor=\"middle\" x=\"143.7581\" y=\"-181.9\">output:</text>\n",
       "<polyline fill=\"none\" points=\"171.594,-173.7 171.594,-223.3 \" stroke=\"#000000\"/>\n",
       "<text fill=\"#000000\" font-family=\"Times,serif\" font-size=\"14.00\" text-anchor=\"middle\" x=\"213.4152\" y=\"-206.7\">(None, 128)</text>\n",
       "<polyline fill=\"none\" points=\"171.594,-198.5 255.2364,-198.5 \" stroke=\"#000000\"/>\n",
       "<text fill=\"#000000\" font-family=\"Times,serif\" font-size=\"14.00\" text-anchor=\"middle\" x=\"213.4152\" y=\"-181.9\">(None, 128)</text>\n",
       "</g>\n",
       "<!-- 140716034334280&#45;&gt;140716034332768 -->\n",
       "<g class=\"edge\" id=\"edge5\">\n",
       "<title>140716034334280-&gt;140716034332768</title>\n",
       "<path d=\"M133.4569,-260.0517C133.4569,-251.7937 133.4569,-242.4517 133.4569,-233.5864\" fill=\"none\" stroke=\"#000000\"/>\n",
       "<polygon fill=\"#000000\" points=\"136.957,-233.492 133.4569,-223.492 129.957,-233.492 136.957,-233.492\" stroke=\"#000000\"/>\n",
       "</g>\n",
       "<!-- 140716034406944 -->\n",
       "<g class=\"node\" id=\"node6\">\n",
       "<title>140716034406944</title>\n",
       "<polygon fill=\"none\" points=\"0,-87.1 0,-136.7 266.9138,-136.7 266.9138,-87.1 0,-87.1\" stroke=\"#000000\"/>\n",
       "<text fill=\"#000000\" font-family=\"Times,serif\" font-size=\"14.00\" text-anchor=\"middle\" x=\"63.7998\" y=\"-107.7\">dropout_8: Dropout</text>\n",
       "<polyline fill=\"none\" points=\"127.5996,-87.1 127.5996,-136.7 \" stroke=\"#000000\"/>\n",
       "<text fill=\"#000000\" font-family=\"Times,serif\" font-size=\"14.00\" text-anchor=\"middle\" x=\"155.4355\" y=\"-120.1\">input:</text>\n",
       "<polyline fill=\"none\" points=\"127.5996,-111.9 183.2714,-111.9 \" stroke=\"#000000\"/>\n",
       "<text fill=\"#000000\" font-family=\"Times,serif\" font-size=\"14.00\" text-anchor=\"middle\" x=\"155.4355\" y=\"-95.3\">output:</text>\n",
       "<polyline fill=\"none\" points=\"183.2714,-87.1 183.2714,-136.7 \" stroke=\"#000000\"/>\n",
       "<text fill=\"#000000\" font-family=\"Times,serif\" font-size=\"14.00\" text-anchor=\"middle\" x=\"225.0926\" y=\"-120.1\">(None, 128)</text>\n",
       "<polyline fill=\"none\" points=\"183.2714,-111.9 266.9138,-111.9 \" stroke=\"#000000\"/>\n",
       "<text fill=\"#000000\" font-family=\"Times,serif\" font-size=\"14.00\" text-anchor=\"middle\" x=\"225.0926\" y=\"-95.3\">(None, 128)</text>\n",
       "</g>\n",
       "<!-- 140716034332768&#45;&gt;140716034406944 -->\n",
       "<g class=\"edge\" id=\"edge6\">\n",
       "<title>140716034332768-&gt;140716034406944</title>\n",
       "<path d=\"M133.4569,-173.4517C133.4569,-165.1937 133.4569,-155.8517 133.4569,-146.9864\" fill=\"none\" stroke=\"#000000\"/>\n",
       "<polygon fill=\"#000000\" points=\"136.957,-146.892 133.4569,-136.892 129.957,-146.892 136.957,-146.892\" stroke=\"#000000\"/>\n",
       "</g>\n",
       "<!-- 140716033816616 -->\n",
       "<g class=\"node\" id=\"node7\">\n",
       "<title>140716033816616</title>\n",
       "<polygon fill=\"none\" points=\"8.1774,-.5 8.1774,-50.1 258.7364,-50.1 258.7364,-.5 8.1774,-.5\" stroke=\"#000000\"/>\n",
       "<text fill=\"#000000\" font-family=\"Times,serif\" font-size=\"14.00\" text-anchor=\"middle\" x=\"63.7998\" y=\"-21.1\">dense_10: Dense</text>\n",
       "<polyline fill=\"none\" points=\"119.4222,-.5 119.4222,-50.1 \" stroke=\"#000000\"/>\n",
       "<text fill=\"#000000\" font-family=\"Times,serif\" font-size=\"14.00\" text-anchor=\"middle\" x=\"147.2581\" y=\"-33.5\">input:</text>\n",
       "<polyline fill=\"none\" points=\"119.4222,-25.3 175.094,-25.3 \" stroke=\"#000000\"/>\n",
       "<text fill=\"#000000\" font-family=\"Times,serif\" font-size=\"14.00\" text-anchor=\"middle\" x=\"147.2581\" y=\"-8.7\">output:</text>\n",
       "<polyline fill=\"none\" points=\"175.094,-.5 175.094,-50.1 \" stroke=\"#000000\"/>\n",
       "<text fill=\"#000000\" font-family=\"Times,serif\" font-size=\"14.00\" text-anchor=\"middle\" x=\"216.9152\" y=\"-33.5\">(None, 128)</text>\n",
       "<polyline fill=\"none\" points=\"175.094,-25.3 258.7364,-25.3 \" stroke=\"#000000\"/>\n",
       "<text fill=\"#000000\" font-family=\"Times,serif\" font-size=\"14.00\" text-anchor=\"middle\" x=\"216.9152\" y=\"-8.7\">(None, 10)</text>\n",
       "</g>\n",
       "<!-- 140716034406944&#45;&gt;140716033816616 -->\n",
       "<g class=\"edge\" id=\"edge7\">\n",
       "<title>140716034406944-&gt;140716033816616</title>\n",
       "<path d=\"M133.4569,-86.8517C133.4569,-78.5937 133.4569,-69.2517 133.4569,-60.3864\" fill=\"none\" stroke=\"#000000\"/>\n",
       "<polygon fill=\"#000000\" points=\"136.957,-60.292 133.4569,-50.292 129.957,-60.292 136.957,-60.292\" stroke=\"#000000\"/>\n",
       "</g>\n",
       "<!-- 140716034334392 -->\n",
       "<g class=\"node\" id=\"node8\">\n",
       "<title>140716034334392</title>\n",
       "<polygon fill=\"none\" points=\"72.9569,-606.7 72.9569,-642.7 193.9569,-642.7 193.9569,-606.7 72.9569,-606.7\" stroke=\"#000000\"/>\n",
       "<text fill=\"#000000\" font-family=\"Times,serif\" font-size=\"14.00\" text-anchor=\"middle\" x=\"133.4569\" y=\"-620.5\">140716034334392</text>\n",
       "</g>\n",
       "<!-- 140716034334392&#45;&gt;140716034333776 -->\n",
       "<g class=\"edge\" id=\"edge1\">\n",
       "<title>140716034334392-&gt;140716034333776</title>\n",
       "<path d=\"M133.4569,-606.5921C133.4569,-598.7071 133.4569,-589.1843 133.4569,-580.0049\" fill=\"none\" stroke=\"#000000\"/>\n",
       "<polygon fill=\"#000000\" points=\"136.957,-579.8927 133.4569,-569.8927 129.957,-579.8927 136.957,-579.8927\" stroke=\"#000000\"/>\n",
       "</g>\n",
       "</g>\n",
       "</svg>"
      ],
      "text/plain": [
       "<IPython.core.display.SVG object>"
      ]
     },
     "execution_count": 66,
     "metadata": {},
     "output_type": "execute_result"
    }
   ],
   "source": [
    "SVG(model_to_dot(model_dense, show_shapes=True).create(prog='dot', format='svg'))"
   ]
  },
  {
   "cell_type": "markdown",
   "metadata": {},
   "source": [
    "Compile model"
   ]
  },
  {
   "cell_type": "code",
   "execution_count": 67,
   "metadata": {},
   "outputs": [],
   "source": [
    "model_dense.compile(loss='categorical_crossentropy',\n",
    "                    optimizer='adam',\n",
    "                    metrics=['accuracy'])"
   ]
  },
  {
   "cell_type": "markdown",
   "metadata": {},
   "source": [
    "## Training"
   ]
  },
  {
   "cell_type": "code",
   "execution_count": 68,
   "metadata": {},
   "outputs": [
    {
     "name": "stdout",
     "output_type": "stream",
     "text": [
      "Train on 48000 samples, validate on 12000 samples\n",
      "Epoch 1/20\n",
      "48000/48000 [==============================] - 3s 64us/step - loss: 1.5363 - acc: 0.4403 - val_loss: 4.6569 - val_acc: 0.6965\n",
      "Epoch 2/20\n",
      "48000/48000 [==============================] - 2s 52us/step - loss: 0.8265 - acc: 0.7203 - val_loss: 4.0549 - val_acc: 0.7403\n",
      "Epoch 3/20\n",
      "48000/48000 [==============================] - 2s 51us/step - loss: 0.6459 - acc: 0.7999 - val_loss: 3.7781 - val_acc: 0.7598\n",
      "Epoch 4/20\n",
      "48000/48000 [==============================] - 2s 52us/step - loss: 0.5500 - acc: 0.8373 - val_loss: 3.0322 - val_acc: 0.8071\n",
      "Epoch 5/20\n",
      "48000/48000 [==============================] - 3s 52us/step - loss: 0.4960 - acc: 0.8552 - val_loss: 2.5715 - val_acc: 0.8367\n",
      "Epoch 6/20\n",
      "48000/48000 [==============================] - 2s 52us/step - loss: 0.4557 - acc: 0.8674 - val_loss: 2.2560 - val_acc: 0.8575\n",
      "Epoch 7/20\n",
      "48000/48000 [==============================] - 3s 57us/step - loss: 0.4228 - acc: 0.8779 - val_loss: 2.0098 - val_acc: 0.8729\n",
      "Epoch 8/20\n",
      "48000/48000 [==============================] - 3s 54us/step - loss: 0.3993 - acc: 0.8851 - val_loss: 1.9577 - val_acc: 0.8763\n",
      "Epoch 9/20\n",
      "48000/48000 [==============================] - 3s 52us/step - loss: 0.3755 - acc: 0.8901 - val_loss: 1.8084 - val_acc: 0.8858\n",
      "Epoch 10/20\n",
      "48000/48000 [==============================] - 2s 51us/step - loss: 0.3570 - acc: 0.9001 - val_loss: 1.6632 - val_acc: 0.8948\n",
      "Epoch 11/20\n",
      "48000/48000 [==============================] - 3s 54us/step - loss: 0.3449 - acc: 0.9018 - val_loss: 1.5363 - val_acc: 0.9032\n",
      "Epoch 12/20\n",
      "48000/48000 [==============================] - 3s 53us/step - loss: 0.3372 - acc: 0.9047 - val_loss: 1.4571 - val_acc: 0.9082\n",
      "Epoch 13/20\n",
      "48000/48000 [==============================] - 2s 49us/step - loss: 0.3295 - acc: 0.9065 - val_loss: 1.4999 - val_acc: 0.9056\n",
      "Epoch 14/20\n",
      "48000/48000 [==============================] - 2s 49us/step - loss: 0.3187 - acc: 0.9095 - val_loss: 1.4429 - val_acc: 0.9083\n",
      "Epoch 15/20\n",
      "48000/48000 [==============================] - 2s 49us/step - loss: 0.3079 - acc: 0.9131 - val_loss: 1.4071 - val_acc: 0.9112\n",
      "Epoch 16/20\n",
      "48000/48000 [==============================] - 2s 50us/step - loss: 0.3064 - acc: 0.9124 - val_loss: 1.3083 - val_acc: 0.9175\n",
      "Epoch 17/20\n",
      "48000/48000 [==============================] - 2s 50us/step - loss: 0.2946 - acc: 0.9162 - val_loss: 1.2982 - val_acc: 0.9177\n",
      "Epoch 18/20\n",
      "48000/48000 [==============================] - 2s 51us/step - loss: 0.2952 - acc: 0.9166 - val_loss: 1.2519 - val_acc: 0.9207\n",
      "Epoch 19/20\n",
      "48000/48000 [==============================] - 2s 51us/step - loss: 0.2870 - acc: 0.9192 - val_loss: 1.2429 - val_acc: 0.9211\n",
      "Epoch 20/20\n",
      "48000/48000 [==============================] - 2s 51us/step - loss: 0.2843 - acc: 0.9197 - val_loss: 1.2484 - val_acc: 0.9215\n",
      "seconds_per_epoch: 2.528\n"
     ]
    }
   ],
   "source": [
    "import time\n",
    "start = time.time()\n",
    "epochs=20\n",
    "hist = model_dense.fit(X_train.reshape((len(X_train), img_cols * img_rows)), y_train, \n",
    "                       validation_data = (X_valid, y_valid), \n",
    "                       epochs=epochs, batch_size=128)\n",
    "end = time.time()\n",
    "seconds_per_epoch = f\"{(end - start)/epochs:.4}\"\n",
    "print(f\"seconds_per_epoch: {seconds_per_epoch}\")\n"
   ]
  },
  {
   "cell_type": "markdown",
   "metadata": {},
   "source": [
    "## Evaluation"
   ]
  },
  {
   "cell_type": "code",
   "execution_count": 69,
   "metadata": {},
   "outputs": [
    {
     "name": "stdout",
     "output_type": "stream",
     "text": [
      "10000/10000 [==============================] - 0s 36us/step\n"
     ]
    },
    {
     "data": {
      "text/plain": [
       "[0.17201692529022694, 0.9501]"
      ]
     },
     "execution_count": 69,
     "metadata": {},
     "output_type": "execute_result"
    }
   ],
   "source": [
    "# Returns the loss value & metrics values for the model in test mode.\n",
    "# CXE and accuracy\n",
    "model_dense.evaluate(X_test,  y_test, verbose=1)"
   ]
  },
  {
   "cell_type": "markdown",
   "metadata": {},
   "source": [
    "###  Visualize the learning, epoch by epoch"
   ]
  },
  {
   "cell_type": "code",
   "execution_count": 70,
   "metadata": {},
   "outputs": [
    {
     "name": "stderr",
     "output_type": "stream",
     "text": [
      "/usr/local/lib/python3.6/site-packages/matplotlib/cbook/__init__.py:424: MatplotlibDeprecationWarning: \n",
      "Passing one of 'on', 'true', 'off', 'false' as a boolean is deprecated; use an actual boolean (True/False) instead.\n",
      "  warn_deprecated(\"2.2\", \"Passing one of 'on', 'true', 'off', 'false' as a \"\n",
      "/usr/local/lib/python3.6/site-packages/matplotlib/cbook/__init__.py:424: MatplotlibDeprecationWarning: \n",
      "Passing one of 'on', 'true', 'off', 'false' as a boolean is deprecated; use an actual boolean (True/False) instead.\n",
      "  warn_deprecated(\"2.2\", \"Passing one of 'on', 'true', 'off', 'false' as a \"\n"
     ]
    },
    {
     "data": {
      "text/plain": [
       "Text(0.5, 1.0, 'Accuracy')"
      ]
     },
     "execution_count": 70,
     "metadata": {},
     "output_type": "execute_result"
    },
    {
     "data": {
      "image/png": "[encoded data removed]",
      "text/plain": [
       "<Figure size 1440x576 with 2 Axes>"
      ]
     },
     "metadata": {},
     "output_type": "display_data"
    }
   ],
   "source": [
    "plt.figure(figsize=(20, 8))\n",
    "plt.suptitle(\"Dense model training\", fontsize=18)\n",
    "plt.subplot(121)\n",
    "plt.plot(hist.history[\"loss\"], label=\"Train\")\n",
    "plt.plot(hist.history[\"val_loss\"], label=\"Validation\")\n",
    "plt.grid(\"on\")\n",
    "plt.xlabel(\"Epoch\", fontsize=14)\n",
    "plt.ylabel(\"Crossentropy\", fontsize=14)\n",
    "plt.legend(loc=\"upper right\")\n",
    "plt.title(\"Crossentropy CXE\")\n",
    "plt.subplot(122)\n",
    "plt.plot(hist.history[\"acc\"], label=\"Train\")\n",
    "plt.grid(\"on\")\n",
    "plt.plot(hist.history[\"val_acc\"], label=\"Validation\")\n",
    "plt.xlabel(\"Epoch\", fontsize=14)\n",
    "plt.ylabel(\"Accuracy\", fontsize=14)\n",
    "plt.legend(loc=\"lower right\")\n",
    "plt.title(\"Accuracy\")\n",
    "\n",
    "#plt.ylim([0.88, 1.0]);"
   ]
  },
  {
   "cell_type": "markdown",
   "metadata": {},
   "source": [
    "Table to store the results of the experiments"
   ]
  },
  {
   "cell_type": "code",
   "execution_count": 71,
   "metadata": {},
   "outputs": [
    {
     "data": {
      "text/html": [
       "<div>\n",
       "<style scoped>\n",
       "    .dataframe tbody tr th:only-of-type {\n",
       "        vertical-align: middle;\n",
       "    }\n",
       "\n",
       "    .dataframe tbody tr th {\n",
       "        vertical-align: top;\n",
       "    }\n",
       "\n",
       "    .dataframe thead th {\n",
       "        text-align: right;\n",
       "    }\n",
       "</style>\n",
       "<table border=\"1\" class=\"dataframe\">\n",
       "  <thead>\n",
       "    <tr style=\"text-align: right;\">\n",
       "      <th></th>\n",
       "      <th>exp_name</th>\n",
       "      <th>epoch (secs)</th>\n",
       "      <th>Epochs</th>\n",
       "      <th>Train CXE Loss</th>\n",
       "      <th>Train Acc</th>\n",
       "      <th>Validation CXE Loss</th>\n",
       "      <th>Validation  Acc</th>\n",
       "      <th>Test CXE Loss</th>\n",
       "      <th>Test  Accuracy</th>\n",
       "    </tr>\n",
       "  </thead>\n",
       "  <tbody>\n",
       "  </tbody>\n",
       "</table>\n",
       "</div>"
      ],
      "text/plain": [
       "Empty DataFrame\n",
       "Columns: [exp_name, epoch (secs), Epochs, Train CXE Loss, Train Acc, Validation CXE Loss, Validation  Acc, Test CXE Loss, Test  Accuracy]\n",
       "Index: []"
      ]
     },
     "execution_count": 71,
     "metadata": {},
     "output_type": "execute_result"
    }
   ],
   "source": [
    "\n",
    "\n",
    "expLog"
   ]
  },
  {
   "cell_type": "markdown",
   "metadata": {},
   "source": [
    "### Debugging (please use)"
   ]
  },
  {
   "cell_type": "code",
   "execution_count": 2,
   "metadata": {},
   "outputs": [
    {
     "name": "stdout",
     "output_type": "stream",
     "text": [
      "--Return--\n",
      "None\n",
      "> \u001b[0;32m<ipython-input-2-79bc8a8de89f>\u001b[0m(4)\u001b[0;36m<module>\u001b[0;34m()\u001b[0m\n",
      "\u001b[0;32m      2 \u001b[0;31m\u001b[0my\u001b[0m \u001b[0;34m=\u001b[0m\u001b[0;36m4\u001b[0m\u001b[0;34m\u001b[0m\u001b[0;34m\u001b[0m\u001b[0m\n",
      "\u001b[0m\u001b[0;32m      3 \u001b[0;31m\u001b[0;34m\u001b[0m\u001b[0m\n",
      "\u001b[0m\u001b[0;32m----> 4 \u001b[0;31m\u001b[0;32mfrom\u001b[0m \u001b[0mIPython\u001b[0m\u001b[0;34m.\u001b[0m\u001b[0mcore\u001b[0m\u001b[0;34m.\u001b[0m\u001b[0mdebugger\u001b[0m \u001b[0;32mimport\u001b[0m \u001b[0mPdb\u001b[0m \u001b[0;32mas\u001b[0m \u001b[0mpdb\u001b[0m\u001b[0;34m;\u001b[0m    \u001b[0mpdb\u001b[0m\u001b[0;34m(\u001b[0m\u001b[0;34m)\u001b[0m\u001b[0;34m.\u001b[0m\u001b[0mset_trace\u001b[0m\u001b[0;34m(\u001b[0m\u001b[0;34m)\u001b[0m \u001b[0;31m#breakpoint; dont forget to quit\u001b[0m\u001b[0;34m\u001b[0m\u001b[0;34m\u001b[0m\u001b[0m\n",
      "\u001b[0m\u001b[0;32m      5 \u001b[0;31m\u001b[0;34m\u001b[0m\u001b[0m\n",
      "\u001b[0m\u001b[0;32m      6 \u001b[0;31m\u001b[0mprint\u001b[0m\u001b[0;34m(\u001b[0m\u001b[0;34mf\"x: {x}\"\u001b[0m\u001b[0;34m)\u001b[0m\u001b[0;34m\u001b[0m\u001b[0;34m\u001b[0m\u001b[0m\n",
      "\u001b[0m\n",
      "ipdb> l\n",
      "\u001b[1;32m      1 \u001b[0m\u001b[0mx\u001b[0m \u001b[0;34m=\u001b[0m \u001b[0;36m3\u001b[0m\u001b[0;34m\u001b[0m\u001b[0;34m\u001b[0m\u001b[0m\n",
      "\u001b[1;32m      2 \u001b[0m\u001b[0my\u001b[0m \u001b[0;34m=\u001b[0m\u001b[0;36m4\u001b[0m\u001b[0;34m\u001b[0m\u001b[0;34m\u001b[0m\u001b[0m\n",
      "\u001b[1;32m      3 \u001b[0m\u001b[0;34m\u001b[0m\u001b[0m\n",
      "\u001b[0;32m----> 4 \u001b[0;31m\u001b[0;32mfrom\u001b[0m \u001b[0mIPython\u001b[0m\u001b[0;34m.\u001b[0m\u001b[0mcore\u001b[0m\u001b[0;34m.\u001b[0m\u001b[0mdebugger\u001b[0m \u001b[0;32mimport\u001b[0m \u001b[0mPdb\u001b[0m \u001b[0;32mas\u001b[0m \u001b[0mpdb\u001b[0m\u001b[0;34m;\u001b[0m    \u001b[0mpdb\u001b[0m\u001b[0;34m(\u001b[0m\u001b[0;34m)\u001b[0m\u001b[0;34m.\u001b[0m\u001b[0mset_trace\u001b[0m\u001b[0;34m(\u001b[0m\u001b[0;34m)\u001b[0m \u001b[0;31m#breakpoint; dont forget to quit\u001b[0m\u001b[0;34m\u001b[0m\u001b[0;34m\u001b[0m\u001b[0m\n",
      "\u001b[0m\u001b[1;32m      5 \u001b[0m\u001b[0;34m\u001b[0m\u001b[0m\n",
      "\u001b[1;32m      6 \u001b[0m\u001b[0mprint\u001b[0m\u001b[0;34m(\u001b[0m\u001b[0;34mf\"x: {x}\"\u001b[0m\u001b[0;34m)\u001b[0m\u001b[0;34m\u001b[0m\u001b[0;34m\u001b[0m\u001b[0m\n",
      "\n",
      "ipdb> x\n",
      "3\n",
      "ipdb> n\n",
      "> \u001b[0;32m/usr/local/lib/python3.6/site-packages/IPython/core/interactiveshell.py\u001b[0m(3270)\u001b[0;36mrun_code\u001b[0;34m()\u001b[0m\n",
      "\u001b[0;32m   3268 \u001b[0;31m            \u001b[0;32mfinally\u001b[0m\u001b[0;34m:\u001b[0m\u001b[0;34m\u001b[0m\u001b[0;34m\u001b[0m\u001b[0m\n",
      "\u001b[0m\u001b[0;32m   3269 \u001b[0;31m                \u001b[0;31m# Reset our crash handler in place\u001b[0m\u001b[0;34m\u001b[0m\u001b[0;34m\u001b[0m\u001b[0;34m\u001b[0m\u001b[0m\n",
      "\u001b[0m\u001b[0;32m-> 3270 \u001b[0;31m                \u001b[0msys\u001b[0m\u001b[0;34m.\u001b[0m\u001b[0mexcepthook\u001b[0m \u001b[0;34m=\u001b[0m \u001b[0mold_excepthook\u001b[0m\u001b[0;34m\u001b[0m\u001b[0;34m\u001b[0m\u001b[0m\n",
      "\u001b[0m\u001b[0;32m   3271 \u001b[0;31m        \u001b[0;32mexcept\u001b[0m \u001b[0mSystemExit\u001b[0m \u001b[0;32mas\u001b[0m \u001b[0me\u001b[0m\u001b[0;34m:\u001b[0m\u001b[0;34m\u001b[0m\u001b[0;34m\u001b[0m\u001b[0m\n",
      "\u001b[0m\u001b[0;32m   3272 \u001b[0;31m            \u001b[0;32mif\u001b[0m \u001b[0mresult\u001b[0m \u001b[0;32mis\u001b[0m \u001b[0;32mnot\u001b[0m \u001b[0;32mNone\u001b[0m\u001b[0;34m:\u001b[0m\u001b[0;34m\u001b[0m\u001b[0;34m\u001b[0m\u001b[0m\n",
      "\u001b[0m\n",
      "ipdb> q\n"
     ]
    },
    {
     "ename": "BdbQuit",
     "evalue": "",
     "output_type": "error",
     "traceback": [
      "\u001b[0;31m---------------------------------------------------------------------------\u001b[0m",
      "\u001b[0;31mBdbQuit\u001b[0m                                   Traceback (most recent call last)",
      "\u001b[0;32m/usr/local/lib/python3.6/site-packages/IPython/core/interactiveshell.py\u001b[0m in \u001b[0;36mrun_code\u001b[0;34m(self, code_obj, result, async_)\u001b[0m\n\u001b[1;32m   3268\u001b[0m             \u001b[0;32mfinally\u001b[0m\u001b[0;34m:\u001b[0m\u001b[0;34m\u001b[0m\u001b[0;34m\u001b[0m\u001b[0m\n\u001b[1;32m   3269\u001b[0m                 \u001b[0;31m# Reset our crash handler in place\u001b[0m\u001b[0;34m\u001b[0m\u001b[0;34m\u001b[0m\u001b[0;34m\u001b[0m\u001b[0m\n\u001b[0;32m-> 3270\u001b[0;31m                 \u001b[0msys\u001b[0m\u001b[0;34m.\u001b[0m\u001b[0mexcepthook\u001b[0m \u001b[0;34m=\u001b[0m \u001b[0mold_excepthook\u001b[0m\u001b[0;34m\u001b[0m\u001b[0;34m\u001b[0m\u001b[0m\n\u001b[0m\u001b[1;32m   3271\u001b[0m         \u001b[0;32mexcept\u001b[0m \u001b[0mSystemExit\u001b[0m \u001b[0;32mas\u001b[0m \u001b[0me\u001b[0m\u001b[0;34m:\u001b[0m\u001b[0;34m\u001b[0m\u001b[0;34m\u001b[0m\u001b[0m\n\u001b[1;32m   3272\u001b[0m             \u001b[0;32mif\u001b[0m \u001b[0mresult\u001b[0m \u001b[0;32mis\u001b[0m \u001b[0;32mnot\u001b[0m \u001b[0;32mNone\u001b[0m\u001b[0;34m:\u001b[0m\u001b[0;34m\u001b[0m\u001b[0;34m\u001b[0m\u001b[0m\n",
      "\u001b[0;32m/usr/local/lib/python3.6/bdb.py\u001b[0m in \u001b[0;36mtrace_dispatch\u001b[0;34m(self, frame, event, arg)\u001b[0m\n\u001b[1;32m     49\u001b[0m             \u001b[0;32mreturn\u001b[0m \u001b[0;31m# None\u001b[0m\u001b[0;34m\u001b[0m\u001b[0;34m\u001b[0m\u001b[0m\n\u001b[1;32m     50\u001b[0m         \u001b[0;32mif\u001b[0m \u001b[0mevent\u001b[0m \u001b[0;34m==\u001b[0m \u001b[0;34m'line'\u001b[0m\u001b[0;34m:\u001b[0m\u001b[0;34m\u001b[0m\u001b[0;34m\u001b[0m\u001b[0m\n\u001b[0;32m---> 51\u001b[0;31m             \u001b[0;32mreturn\u001b[0m \u001b[0mself\u001b[0m\u001b[0;34m.\u001b[0m\u001b[0mdispatch_line\u001b[0m\u001b[0;34m(\u001b[0m\u001b[0mframe\u001b[0m\u001b[0;34m)\u001b[0m\u001b[0;34m\u001b[0m\u001b[0;34m\u001b[0m\u001b[0m\n\u001b[0m\u001b[1;32m     52\u001b[0m         \u001b[0;32mif\u001b[0m \u001b[0mevent\u001b[0m \u001b[0;34m==\u001b[0m \u001b[0;34m'call'\u001b[0m\u001b[0;34m:\u001b[0m\u001b[0;34m\u001b[0m\u001b[0;34m\u001b[0m\u001b[0m\n\u001b[1;32m     53\u001b[0m             \u001b[0;32mreturn\u001b[0m \u001b[0mself\u001b[0m\u001b[0;34m.\u001b[0m\u001b[0mdispatch_call\u001b[0m\u001b[0;34m(\u001b[0m\u001b[0mframe\u001b[0m\u001b[0;34m,\u001b[0m \u001b[0marg\u001b[0m\u001b[0;34m)\u001b[0m\u001b[0;34m\u001b[0m\u001b[0;34m\u001b[0m\u001b[0m\n",
      "\u001b[0;32m/usr/local/lib/python3.6/bdb.py\u001b[0m in \u001b[0;36mdispatch_line\u001b[0;34m(self, frame)\u001b[0m\n\u001b[1;32m     68\u001b[0m         \u001b[0;32mif\u001b[0m \u001b[0mself\u001b[0m\u001b[0;34m.\u001b[0m\u001b[0mstop_here\u001b[0m\u001b[0;34m(\u001b[0m\u001b[0mframe\u001b[0m\u001b[0;34m)\u001b[0m \u001b[0;32mor\u001b[0m \u001b[0mself\u001b[0m\u001b[0;34m.\u001b[0m\u001b[0mbreak_here\u001b[0m\u001b[0;34m(\u001b[0m\u001b[0mframe\u001b[0m\u001b[0;34m)\u001b[0m\u001b[0;34m:\u001b[0m\u001b[0;34m\u001b[0m\u001b[0;34m\u001b[0m\u001b[0m\n\u001b[1;32m     69\u001b[0m             \u001b[0mself\u001b[0m\u001b[0;34m.\u001b[0m\u001b[0muser_line\u001b[0m\u001b[0;34m(\u001b[0m\u001b[0mframe\u001b[0m\u001b[0;34m)\u001b[0m\u001b[0;34m\u001b[0m\u001b[0;34m\u001b[0m\u001b[0m\n\u001b[0;32m---> 70\u001b[0;31m             \u001b[0;32mif\u001b[0m \u001b[0mself\u001b[0m\u001b[0;34m.\u001b[0m\u001b[0mquitting\u001b[0m\u001b[0;34m:\u001b[0m \u001b[0;32mraise\u001b[0m \u001b[0mBdbQuit\u001b[0m\u001b[0;34m\u001b[0m\u001b[0;34m\u001b[0m\u001b[0m\n\u001b[0m\u001b[1;32m     71\u001b[0m         \u001b[0;32mreturn\u001b[0m \u001b[0mself\u001b[0m\u001b[0;34m.\u001b[0m\u001b[0mtrace_dispatch\u001b[0m\u001b[0;34m\u001b[0m\u001b[0;34m\u001b[0m\u001b[0m\n\u001b[1;32m     72\u001b[0m \u001b[0;34m\u001b[0m\u001b[0m\n",
      "\u001b[0;31mBdbQuit\u001b[0m: "
     ]
    }
   ],
   "source": [
    "x = 3 \n",
    "y =4\n",
    "\n",
    "from IPython.core.debugger import Pdb as pdb;    pdb().set_trace() #breakpoint; dont forget to quit         \n",
    "\n",
    "print(f\"x: {x}\")\n"
   ]
  },
  {
   "cell_type": "code",
   "execution_count": 1,
   "metadata": {
    "code_folding": []
   },
   "outputs": [
    {
     "ename": "NameError",
     "evalue": "name 'pd' is not defined",
     "output_type": "error",
     "traceback": [
      "\u001b[0;31m---------------------------------------------------------------------------\u001b[0m",
      "\u001b[0;31mNameError\u001b[0m                                 Traceback (most recent call last)",
      "\u001b[0;32m<ipython-input-1-c1a867e6dc17>\u001b[0m in \u001b[0;36m<module>\u001b[0;34m\u001b[0m\n\u001b[1;32m      4\u001b[0m \u001b[0;32mtry\u001b[0m\u001b[0;34m:\u001b[0m\u001b[0;34m\u001b[0m\u001b[0;34m\u001b[0m\u001b[0m\n\u001b[0;32m----> 5\u001b[0;31m     \u001b[0mexpLog\u001b[0m\u001b[0;34m\u001b[0m\u001b[0;34m\u001b[0m\u001b[0m\n\u001b[0m\u001b[1;32m      6\u001b[0m \u001b[0;32mexcept\u001b[0m \u001b[0mNameError\u001b[0m\u001b[0;34m:\u001b[0m\u001b[0;34m\u001b[0m\u001b[0;34m\u001b[0m\u001b[0m\n",
      "\u001b[0;31mNameError\u001b[0m: name 'expLog' is not defined",
      "\nDuring handling of the above exception, another exception occurred:\n",
      "\u001b[0;31mNameError\u001b[0m                                 Traceback (most recent call last)",
      "\u001b[0;32m<ipython-input-1-c1a867e6dc17>\u001b[0m in \u001b[0;36m<module>\u001b[0;34m\u001b[0m\n\u001b[1;32m      5\u001b[0m     \u001b[0mexpLog\u001b[0m\u001b[0;34m\u001b[0m\u001b[0;34m\u001b[0m\u001b[0m\n\u001b[1;32m      6\u001b[0m \u001b[0;32mexcept\u001b[0m \u001b[0mNameError\u001b[0m\u001b[0;34m:\u001b[0m\u001b[0;34m\u001b[0m\u001b[0;34m\u001b[0m\u001b[0m\n\u001b[0;32m----> 7\u001b[0;31m     expLog = pd.DataFrame(columns=[\"exp_name\", \"epoch (secs)\", \"Epochs\", \"Train CXE Loss\", \"Train Acc\", \"Validation CXE Loss\", \"Validation  Acc\",\n\u001b[0m\u001b[1;32m      8\u001b[0m                     \"Test CXE Loss\", \"Test  Accuracy\"])\n\u001b[1;32m      9\u001b[0m \u001b[0;34m\u001b[0m\u001b[0m\n",
      "\u001b[0;31mNameError\u001b[0m: name 'pd' is not defined"
     ]
    }
   ],
   "source": [
    "# add the result of this experiment to the log book\n",
    "exp_name = \"MLP-784-128-128-128-10\" # experiment name\n",
    "#del expLog\n",
    "try:\n",
    "    expLog\n",
    "except NameError:\n",
    "    expLog = pd.DataFrame(columns=[\"exp_name\", \"epoch (secs)\", \"Epochs\", \"Train CXE Loss\", \"Train Acc\", \"Validation CXE Loss\", \"Validation  Acc\",\n",
    "                    \"Test CXE Loss\", \"Test  Accuracy\"])\n",
    "    \n",
    "# Add a experiment results to the experiment log\n",
    "model = model_dense\n",
    "#from IPython.core.debugger import Pdb as pdb;    pdb().set_trace() #breakpoint; dont forget to quit         \n",
    "expLog.loc[len(expLog)] = [f\"{exp_name}\", seconds_per_epoch, epochs] + list(np.round(np.reshape([model.evaluate(X_train, y_train, verbose=0), \n",
    "                   model.evaluate(X_valid, y_valid, verbose=0),\n",
    "                   model.evaluate(X_test,  y_test, verbose=1)], -1), 3))\n",
    "expLog"
   ]
  },
  {
   "cell_type": "markdown",
   "metadata": {},
   "source": [
    "## Task 3.1 : choose a better MLP architecture\n",
    "\n",
    "\n",
    "\n",
    "Using all the training data, search for a good CNN architecture to model the MNIST problem. Above we explored 784-128-128-128-10.\n",
    " \n",
    "\n",
    "It is up to you what the model will be. Here are some things you need to decide:\n",
    "1. how many DENSE layers?\n",
    "* how manu neurons per layer\n",
    "* report the accuracy on the test data set\n",
    "\n",
    "Please use use like this to explore different architectures:\n",
    "\n",
    "\n",
    "```python\n",
    "model_dense = Sequential()  #784-12-12-10\n",
    "model_dense.add(Dense(12, input_shape=(img_rows * img_cols,), activation=\"relu\"))\n",
    "model_dense.add(Dense(12, activation=\"relu\"))\n",
    "model_dense.add(Dense(nb_classes, activation=\"softmax\"))\n",
    "\n",
    "# E.g., explore 24 possible architectures \n",
    "number_of_hidden_layes = [1, 2, 3, 4]\n",
    "number_of_hidden_nodes = [12, 24, 48, 96, 128,256]\n",
    "\n",
    "\n",
    "```\n",
    "\n",
    "\n",
    "**Please paste your response here using the following format:** \n",
    "* Best archtecture is:  \n",
    "* Test accuracy: \n",
    "* Training time per epoch in seconds is : \n",
    "\n",
    "\n",
    "## Task 3.2 : with 500 training examples\n",
    "\n",
    "Use only 500 examples per class (recall we  have only 10 classes) and find the best architecture. \n",
    "HINTs:\n",
    "* you can do  stratified sampling OR just random selection of 5,000 examples\n",
    "* for inspiration, see [here](https://mclguide.readthedocs.io/en/latest/sklearn/multiclass.html)\n",
    "* For more details see: [sklearn.model_selection.train_test_split manual page](https://scikit-learn.org/stable/modules/generated/sklearn.model_selection.train_test_split.html)\n",
    "  * `stratify` : array-like or None (default=None)\n",
    "    If not None, data is split in a stratified fashion, using this as the class labels.\n",
    "\n",
    "```python\n",
    "# load MNIST data\n",
    "from sklearn.model_selection import train_test_split\n",
    "(X_train, y_train), (X_test, y_test) = mnist.load_data()\n",
    "X_train, X_valid, y_train, y_valid = train_test_split(X_train, y_train, \n",
    "                                                     test_size=55000./60000., random_state=42, \n",
    "                                                     stratify=y_train)\n",
    "img_rows, img_cols = 28, 28\n",
    "number_of_classes = 10\n",
    "print(f\"X before flatten train      shape: {X_train.shape}\")\n",
    "print(f\"X before flatten validation shape: {X_valid.shape}\")\n",
    "print(f\"X before flatten test       shape: {X_test.shape}\")\n",
    "print(f\"All data: {np.bincount(y_train) / float(len(y_train))}\")\n",
    "```\n",
    "\n",
    "**Please paste your response here:** \n",
    "* Best archtecture is:  \n",
    "* Test accuracy: \n",
    "* Training time per epoch in seconds is : \n",
    "\n",
    "## Task 3.3 : Odd versus Even Classifier\n",
    "\n",
    "Build a binary classifier that classifiers odd numbers versus even numbers. Again, try to find the best architecture.\n",
    "\n",
    "\n",
    "**Please paste your response here:** \n",
    "* Best archtecture is:  \n",
    "* Test accuracy: \n",
    "* Training time per epoch in seconds is : \n",
    "\n",
    "\n",
    "## 3.4 Homework Submission Instructions:\n",
    "\n",
    "\n",
    "\n",
    "1. Please fill in your best architecture for each of the three homework tasks 3.1, 3.2, 3.3: \n",
    "https://docs.google.com/spreadsheets/d/11Ot_v7EKmBoNgXBEjCsN_S7tYtfa5OXFLQoH62JCf1g/edit?usp=sharing\n",
    "  * NOTE: that each task has a SEPARATE table/tab in the above spreadsheet.\n",
    "  * The winner in each task gets a special prize!\n",
    "* Please upload your notebook to the following Google Drive folder (you save directly or just can drag and drop):\n",
    "  * https://drive.google.com/drive/folders/18Ng3PfnVBhrT82s_rQ_-WylE5rN7f9ej?usp=sharing\n",
    "* Your homework submission is now due tomorrow (Thursday) morning at 8AM (that will give you an extra 12 hours!!)\n",
    "* Please send the following by EMAIL to James.Shanahan@gmail.com with the subject \"Sichuan2019: MNIST Best MLP Architecture\"\n",
    "\n",
    "  * Link to your own Google Colab notebook where you did the experiments\n",
    "  * All the text + your response from this cell\n",
    "  * A screenshot of your expLog table"
   ]
  },
  {
   "cell_type": "markdown",
   "metadata": {},
   "source": [
    "# Building CNN model"
   ]
  },
  {
   "cell_type": "markdown",
   "metadata": {},
   "source": [
    "## Load MNIST data"
   ]
  },
  {
   "cell_type": "code",
   "execution_count": 74,
   "metadata": {},
   "outputs": [
    {
     "name": "stdout",
     "output_type": "stream",
     "text": [
      "X before flatten train      shape: (48000, 28, 28)\n",
      "X before flatten validation shape: (12000, 28, 28)\n",
      "X before flatten test       shape: (10000, 28, 28)\n",
      "X train      shape: (48000, 28, 28), (48000,)\n",
      "X validation shape: (12000, 28, 28),  (12000,)\n",
      "X test       shape: (10000, 28, 28),  (10000,)\n"
     ]
    }
   ],
   "source": [
    "# load MNIST data\n",
    "from sklearn.model_selection import train_test_split\n",
    "(X_train, y_train), (X_test, y_test) = mnist.load_data()\n",
    "X_train, X_valid, y_train, y_valid = train_test_split(X_train, y_train, test_size=0.20, random_state=42)\n",
    "img_rows, img_cols = 28, 28\n",
    "number_of_classes = 10\n",
    "print(f\"X before flatten train      shape: {X_train.shape}\")\n",
    "print(f\"X before flatten validation shape: {X_valid.shape}\")\n",
    "print(f\"X before flatten test       shape: {X_test.shape}\")\n",
    "\n",
    "#Tensorflow prefers to work with float32 data type. \n",
    "#So the next step is to cast data. \n",
    "# Also let's have our data in [0; 1]interval; it's common choice for grayscale images.\n",
    "\n",
    "X_train = X_train.astype('float32')\n",
    "X_valid = X_valid.astype('float32')\n",
    "X_test = X_test.astype('float32')\n",
    "X_train /= 255\n",
    "X_valid /= 255\n",
    "X_test /= 255\n",
    "print(f\"X train      shape: {X_train.shape}, {y_train.shape}\")\n",
    "print(f\"X validation shape: {X_valid.shape},  {y_valid.shape}\")\n",
    "print(f\"X test       shape: {X_test.shape},  {y_test.shape}\")"
   ]
  },
  {
   "cell_type": "markdown",
   "metadata": {},
   "source": [
    "### Input image Data reshaping and expanding 28x28x1"
   ]
  },
  {
   "cell_type": "markdown",
   "metadata": {},
   "source": [
    "First of all, let's predefine image parameters:\n",
    "* **img_rows, img_cols** $-$ 2D dimension of a pictures; for MNIST it is $28 \\times 28$\n",
    "* **nb_classes** $-$ number of classes (digits in our case)"
   ]
  },
  {
   "cell_type": "code",
   "execution_count": 75,
   "metadata": {},
   "outputs": [],
   "source": [
    "img_rows, img_cols = 28, 28\n",
    "nb_classes = 10"
   ]
  },
  {
   "cell_type": "markdown",
   "metadata": {},
   "source": [
    "Tensorflow, pyTorch, Theano (no longer used) principal data data structure is a tensor, which is essentially a multidimensional array data structure.  All data, models, all inputs and outputs are represented as **tensors**. \n",
    "\n",
    "Tensorflow supports different dimension orders inside a tensor for image data in particular, which is visible via a call to Keras backend via `K.image_data_format()`. It supports two formats `channels_first` (channel, row, column), and `channels_last` (row, column, channel). These correspond to ordering for Theano and Tensorflow style tensors respectively. One can change the ordering setting as follows to `channels_last` the default setting for Tensorflow: \n",
    "```python \n",
    "K.set_image_data_format('channels_last')\n",
    "```  \n",
    "\n",
    "If the `K.image_data_format()` is set to `channels_first` (i.e., the Theano tensor format) data tensors for images will be 4-dimensional in nature: **(Objects, Channels, Image rows,Image columns)**. Assume that $\\text{X_train}$ is the input image training  tensor. Then $\\text{X_train}[0]$ gives you one training object - it is an image with a few channels in the general case. $\\text{X_train}[0][0]$ gives you the first channel of the first object, $\\text{X_train}[0][1]$ gives you the second channel (if it exists),  and so on. \n",
    "\n",
    "In Tensorflow the order for an input image data tensor is as follows: **(Objects, Image rows,Image columns, Channels)**\n",
    "\n",
    "When working with Keras, one can cross check the tensor dimension order for the Tensorflow backend to avoid any surprises and reshape and expand the grayscale image data as follows (here imagine we are using the  MNIST digits data here):\n",
    "\n",
    "```python\n",
    "import numpy as np\n",
    "import pandas as pd\n",
    "from keras.datasets import mnist\n",
    "from sklearn.model_selection import train_test_split\n",
    "\n",
    "(X_train, y_train), (X_test, y_test) = mnist.load_data()\n",
    "X_train, X_valid, y_train, y_valid = train_test_split(X_train, y_train, test_size=0.20, random_state=42)\n",
    "img_rows, img_cols = 28, 28\n",
    "number_of_classes = 10\n",
    "\n",
    "if K.image_dim_ordering() == 'th':\n",
    "    X_train = X_train.reshape(X_train.shape[0], 1, img_rows, img_cols)\n",
    "    X_valid = X_valid.reshape(X_valid.shape[0], 1, img_rows, img_cols)\n",
    "    X_test  = X_test.reshape( X_test.shape[0],  1, img_rows, img_cols)\n",
    "    input_shape = (1, img_rows, img_cols)\n",
    "else:\n",
    "    X_train = X_train.reshape(X_train.shape[0], img_rows, img_cols, 1)\n",
    "    X_valid = X_valid.reshape(X_valid.shape[0], img_rows, img_cols, 1)\n",
    "    X_test = X_test.reshape(X_test.shape[0], img_rows, img_cols, 1)\n",
    "    input_shape = (img_rows, img_cols, 1)\n",
    "```    "
   ]
  },
  {
   "cell_type": "code",
   "execution_count": 76,
   "metadata": {},
   "outputs": [],
   "source": [
    "if K.image_dim_ordering() == 'th':\n",
    "    X_train = X_train.reshape(X_train.shape[0], 1, img_rows, img_cols)\n",
    "    X_valid = X_valid.reshape(X_valid.shape[0], 1, img_rows, img_cols)\n",
    "    X_test  = X_test.reshape( X_test.shape[0],  1, img_rows, img_cols)\n",
    "    input_shape = (1, img_rows, img_cols)\n",
    "else:\n",
    "    X_train = X_train.reshape(X_train.shape[0], img_rows, img_cols, 1)\n",
    "    X_valid = X_valid.reshape(X_valid.shape[0], img_rows, img_cols, 1)\n",
    "    X_test = X_test.reshape(X_test.shape[0], img_rows, img_cols, 1)\n",
    "    input_shape = (img_rows, img_cols, 1)"
   ]
  },
  {
   "cell_type": "markdown",
   "metadata": {},
   "source": [
    "### Setup the MNIST Target data (OHE)\n",
    "Setup the MNIST data. Here we use  **digits 0 to 9**. "
   ]
  },
  {
   "cell_type": "markdown",
   "metadata": {},
   "source": [
    "Convert labels into [One-Hot Encoding](https://en.wikipedia.org/wiki/One-hot) because we're going to learn them through the softmax layer of CNN"
   ]
  },
  {
   "cell_type": "code",
   "execution_count": 77,
   "metadata": {},
   "outputs": [],
   "source": [
    "y_train = to_categorical(y_train, number_of_classes)\n",
    "y_valid = to_categorical(y_valid, number_of_classes)\n",
    "y_test  = to_categorical(y_test, number_of_classes)"
   ]
  },
  {
   "cell_type": "code",
   "execution_count": 78,
   "metadata": {},
   "outputs": [
    {
     "name": "stdout",
     "output_type": "stream",
     "text": [
      "X train      shape: (48000, 28, 28, 1), (48000, 10)\n",
      "X validation shape: (12000, 28, 28, 1),  (12000, 10)\n",
      "X test       shape: (10000, 28, 28, 1),  (10000, 10)\n"
     ]
    }
   ],
   "source": [
    "print(f\"X train      shape: {X_train.shape}, {y_train.shape}\")\n",
    "print(f\"X validation shape: {X_valid.shape},  {y_valid.shape}\")\n",
    "print(f\"X test       shape: {X_test.shape},  {y_test.shape}\")"
   ]
  },
  {
   "cell_type": "code",
   "execution_count": null,
   "metadata": {},
   "outputs": [],
   "source": []
  },
  {
   "cell_type": "markdown",
   "metadata": {},
   "source": [
    "## Lay out the CNN Architecture"
   ]
  },
  {
   "cell_type": "markdown",
   "metadata": {},
   "source": [
    "Now it's time to build the model step-by-step"
   ]
  },
  {
   "cell_type": "code",
   "execution_count": 79,
   "metadata": {},
   "outputs": [],
   "source": [
    "model_cnn = Sequential()"
   ]
  },
  {
   "cell_type": "markdown",
   "metadata": {},
   "source": [
    "Out model is going to be *Sequential* which means that every new added layer will be automatically connected to the previous one."
   ]
  },
  {
   "cell_type": "markdown",
   "metadata": {},
   "source": [
    "Firstly, let's define hyperparameters of the network:\n",
    "* **filters** $-$ number of filters (or kernels) to use in every layer; in fact this is the same as having multiple channels in the image\n",
    "* **pool_size** $-$ size of the pooling window\n",
    "* **kernel_size** $-$ size of the convolutional filters"
   ]
  },
  {
   "cell_type": "code",
   "execution_count": 80,
   "metadata": {},
   "outputs": [],
   "source": [
    "filters = 32\n",
    "kernel_size = (3, 3)\n",
    "pool_size = (2, 2)"
   ]
  },
  {
   "cell_type": "markdown",
   "metadata": {},
   "source": [
    "Now let's add first layer of the network. It is 2D Convolutional layer. Only unexplained thing here is *padding*. This is the parameter that defines how should we pad the data after applying convolutions. $\\text{padding} = \\text{'valid'}$ means that we're not going to pad images and the dimension of it is going to shrink from layer to layer."
   ]
  },
  {
   "cell_type": "code",
   "execution_count": 81,
   "metadata": {},
   "outputs": [],
   "source": [
    "model_cnn.add(Convolution2D(filters=filters, \n",
    "                            kernel_size=kernel_size,\n",
    "                            padding=\"valid\",\n",
    "                            input_shape=input_shape))"
   ]
  },
  {
   "cell_type": "markdown",
   "metadata": {},
   "source": [
    "Next step is to add nonlinearity to enable our network to learn complex dependencies. We're going to use ReLU activation function because it is less exposed to vanishing gradient problem and faster to train."
   ]
  },
  {
   "cell_type": "code",
   "execution_count": 82,
   "metadata": {},
   "outputs": [],
   "source": [
    "model_cnn.add(Activation('relu'))"
   ]
  },
  {
   "cell_type": "markdown",
   "metadata": {},
   "source": [
    "Let's stack one more Convolution layer on top of that:"
   ]
  },
  {
   "cell_type": "code",
   "execution_count": 83,
   "metadata": {},
   "outputs": [],
   "source": [
    "model_cnn.add(Convolution2D(filters=filters, \n",
    "                            kernel_size=kernel_size,\n",
    "                            padding=\"valid\"))\n",
    "model_cnn.add(Activation('relu'))"
   ]
  },
  {
   "cell_type": "markdown",
   "metadata": {},
   "source": [
    "Now it's time to apply pooling. Note that the strategies of combining convolutional and pooling layers may be different. For further details see [here](http://cs231n.stanford.edu/)"
   ]
  },
  {
   "cell_type": "code",
   "execution_count": 84,
   "metadata": {},
   "outputs": [],
   "source": [
    "model_cnn.add(MaxPooling2D(pool_size=pool_size))"
   ]
  },
  {
   "cell_type": "markdown",
   "metadata": {},
   "source": [
    "At this point we consider that we've already distinguish some meaningful features from the pictures. So it's time to classify them. For that purpose the common approach is to append fully-connected part. \n",
    "\n",
    "But before that we need to pull all the obtained feature into one vector so that one object has 1D-vector of features. It is done by means of $\\text{Flatten}$ layer."
   ]
  },
  {
   "cell_type": "code",
   "execution_count": 85,
   "metadata": {},
   "outputs": [],
   "source": [
    "model_cnn.add(Flatten())"
   ]
  },
  {
   "cell_type": "markdown",
   "metadata": {},
   "source": [
    "Now let's add FC part with the [dropout](https://www.cs.toronto.edu/~hinton/absps/JMLRdropout.pdf) to avoid overfitting."
   ]
  },
  {
   "cell_type": "code",
   "execution_count": 86,
   "metadata": {},
   "outputs": [],
   "source": [
    "model_cnn.add(Dropout(0.5))\n",
    "model_cnn.add(Dense(128, activation=\"relu\"))\n",
    "model_cnn.add(Dropout(0.5))\n",
    "model_cnn.add(Dense(nb_classes, activation=\"softmax\"))"
   ]
  },
  {
   "cell_type": "markdown",
   "metadata": {},
   "source": [
    "The final layer here is usual $\\text{Softmax}$ with the number of classe. So as the output of the network we observe the probability of each class."
   ]
  },
  {
   "cell_type": "markdown",
   "metadata": {},
   "source": [
    "Now let's compile our model.\n",
    "* **optimizer** $-$ here we use accelerated gradient descent algorithm with special adaptive way of choosing learning rate; for more details see this great [overview](http://sebastianruder.com/optimizing-gradient-descent/) of gradient descent optimization algorithms.\n",
    "* **loss** $-$ usual choice for multiclass classification is softmax output layer in combination with categotical crossentropy loss function which is\n",
    "$$\n",
    "\\mathcal{L}(\\text{true}, \\text{pred}) = -\\sum_{j=1}^{k}\\text{true}_j \\cdot \\log \\{\\text{pred}_j\\}\n",
    "$$\n",
    "* **metrics** $-$ additional metrics that we're going to trace while training; it doesn't influence training process at all"
   ]
  },
  {
   "cell_type": "code",
   "execution_count": 87,
   "metadata": {},
   "outputs": [],
   "source": [
    "model_cnn.compile(loss='categorical_crossentropy',\n",
    "                  optimizer='adam',\n",
    "                  metrics=['accuracy'])"
   ]
  },
  {
   "cell_type": "markdown",
   "metadata": {},
   "source": [
    "Let's take a look at our final model now:"
   ]
  },
  {
   "cell_type": "code",
   "execution_count": 88,
   "metadata": {},
   "outputs": [
    {
     "name": "stdout",
     "output_type": "stream",
     "text": [
      "_________________________________________________________________\n",
      "Layer (type)                 Output Shape              Param #   \n",
      "=================================================================\n",
      "conv2d_3 (Conv2D)            (None, 26, 26, 32)        320       \n",
      "_________________________________________________________________\n",
      "activation_3 (Activation)    (None, 26, 26, 32)        0         \n",
      "_________________________________________________________________\n",
      "conv2d_4 (Conv2D)            (None, 24, 24, 32)        9248      \n",
      "_________________________________________________________________\n",
      "activation_4 (Activation)    (None, 24, 24, 32)        0         \n",
      "_________________________________________________________________\n",
      "max_pooling2d_2 (MaxPooling2 (None, 12, 12, 32)        0         \n",
      "_________________________________________________________________\n",
      "flatten_2 (Flatten)          (None, 4608)              0         \n",
      "_________________________________________________________________\n",
      "dropout_9 (Dropout)          (None, 4608)              0         \n",
      "_________________________________________________________________\n",
      "dense_11 (Dense)             (None, 128)               589952    \n",
      "_________________________________________________________________\n",
      "dropout_10 (Dropout)         (None, 128)               0         \n",
      "_________________________________________________________________\n",
      "dense_12 (Dense)             (None, 10)                1290      \n",
      "=================================================================\n",
      "Total params: 600,810\n",
      "Trainable params: 600,810\n",
      "Non-trainable params: 0\n",
      "_________________________________________________________________\n"
     ]
    }
   ],
   "source": [
    "model_cnn.summary()"
   ]
  },
  {
   "cell_type": "code",
   "execution_count": 89,
   "metadata": {},
   "outputs": [
    {
     "data": {
      "image/svg+xml": [
       "<svg height=\"911pt\" viewBox=\"0.00 0.00 393.92 911.00\" width=\"394pt\" xmlns=\"http://www.w3.org/2000/svg\" xmlns:xlink=\"http://www.w3.org/1999/xlink\">\n",
       "<g class=\"graph\" id=\"graph0\" transform=\"scale(1 1) rotate(0) translate(4 907)\">\n",
       "<title>G</title>\n",
       "<polygon fill=\"#ffffff\" points=\"-4,4 -4,-907 389.9208,-907 389.9208,4 -4,4\" stroke=\"transparent\"/>\n",
       "<!-- 140716032457080 -->\n",
       "<g class=\"node\" id=\"node1\">\n",
       "<title>140716032457080</title>\n",
       "<polygon fill=\"none\" points=\"42.7791,-779.9 42.7791,-829.5 343.1417,-829.5 343.1417,-779.9 42.7791,-779.9\" stroke=\"#000000\"/>\n",
       "<text fill=\"#000000\" font-family=\"Times,serif\" font-size=\"14.00\" text-anchor=\"middle\" x=\"105.8033\" y=\"-800.5\">conv2d_3: Conv2D</text>\n",
       "<polyline fill=\"none\" points=\"168.8275,-779.9 168.8275,-829.5 \" stroke=\"#000000\"/>\n",
       "<text fill=\"#000000\" font-family=\"Times,serif\" font-size=\"14.00\" text-anchor=\"middle\" x=\"196.6634\" y=\"-812.9\">input:</text>\n",
       "<polyline fill=\"none\" points=\"168.8275,-804.7 224.4993,-804.7 \" stroke=\"#000000\"/>\n",
       "<text fill=\"#000000\" font-family=\"Times,serif\" font-size=\"14.00\" text-anchor=\"middle\" x=\"196.6634\" y=\"-788.1\">output:</text>\n",
       "<polyline fill=\"none\" points=\"224.4993,-779.9 224.4993,-829.5 \" stroke=\"#000000\"/>\n",
       "<text fill=\"#000000\" font-family=\"Times,serif\" font-size=\"14.00\" text-anchor=\"middle\" x=\"283.8205\" y=\"-812.9\">(None, 28, 28, 1)</text>\n",
       "<polyline fill=\"none\" points=\"224.4993,-804.7 343.1417,-804.7 \" stroke=\"#000000\"/>\n",
       "<text fill=\"#000000\" font-family=\"Times,serif\" font-size=\"14.00\" text-anchor=\"middle\" x=\"283.8205\" y=\"-788.1\">(None, 26, 26, 32)</text>\n",
       "</g>\n",
       "<!-- 140716032458592 -->\n",
       "<g class=\"node\" id=\"node2\">\n",
       "<title>140716032458592</title>\n",
       "<polygon fill=\"none\" points=\"29.9558,-693.3 29.9558,-742.9 355.965,-742.9 355.965,-693.3 29.9558,-693.3\" stroke=\"#000000\"/>\n",
       "<text fill=\"#000000\" font-family=\"Times,serif\" font-size=\"14.00\" text-anchor=\"middle\" x=\"105.8033\" y=\"-713.9\">activation_3: Activation</text>\n",
       "<polyline fill=\"none\" points=\"181.6508,-693.3 181.6508,-742.9 \" stroke=\"#000000\"/>\n",
       "<text fill=\"#000000\" font-family=\"Times,serif\" font-size=\"14.00\" text-anchor=\"middle\" x=\"209.4867\" y=\"-726.3\">input:</text>\n",
       "<polyline fill=\"none\" points=\"181.6508,-718.1 237.3226,-718.1 \" stroke=\"#000000\"/>\n",
       "<text fill=\"#000000\" font-family=\"Times,serif\" font-size=\"14.00\" text-anchor=\"middle\" x=\"209.4867\" y=\"-701.5\">output:</text>\n",
       "<polyline fill=\"none\" points=\"237.3226,-693.3 237.3226,-742.9 \" stroke=\"#000000\"/>\n",
       "<text fill=\"#000000\" font-family=\"Times,serif\" font-size=\"14.00\" text-anchor=\"middle\" x=\"296.6438\" y=\"-726.3\">(None, 26, 26, 32)</text>\n",
       "<polyline fill=\"none\" points=\"237.3226,-718.1 355.965,-718.1 \" stroke=\"#000000\"/>\n",
       "<text fill=\"#000000\" font-family=\"Times,serif\" font-size=\"14.00\" text-anchor=\"middle\" x=\"296.6438\" y=\"-701.5\">(None, 26, 26, 32)</text>\n",
       "</g>\n",
       "<!-- 140716032457080&#45;&gt;140716032458592 -->\n",
       "<g class=\"edge\" id=\"edge2\">\n",
       "<title>140716032457080-&gt;140716032458592</title>\n",
       "<path d=\"M192.9604,-779.6517C192.9604,-771.3937 192.9604,-762.0517 192.9604,-753.1864\" fill=\"none\" stroke=\"#000000\"/>\n",
       "<polygon fill=\"#000000\" points=\"196.4605,-753.092 192.9604,-743.092 189.4605,-753.092 196.4605,-753.092\" stroke=\"#000000\"/>\n",
       "</g>\n",
       "<!-- 140716032348456 -->\n",
       "<g class=\"node\" id=\"node3\">\n",
       "<title>140716032348456</title>\n",
       "<polygon fill=\"none\" points=\"42.7791,-606.7 42.7791,-656.3 343.1417,-656.3 343.1417,-606.7 42.7791,-606.7\" stroke=\"#000000\"/>\n",
       "<text fill=\"#000000\" font-family=\"Times,serif\" font-size=\"14.00\" text-anchor=\"middle\" x=\"105.8033\" y=\"-627.3\">conv2d_4: Conv2D</text>\n",
       "<polyline fill=\"none\" points=\"168.8275,-606.7 168.8275,-656.3 \" stroke=\"#000000\"/>\n",
       "<text fill=\"#000000\" font-family=\"Times,serif\" font-size=\"14.00\" text-anchor=\"middle\" x=\"196.6634\" y=\"-639.7\">input:</text>\n",
       "<polyline fill=\"none\" points=\"168.8275,-631.5 224.4993,-631.5 \" stroke=\"#000000\"/>\n",
       "<text fill=\"#000000\" font-family=\"Times,serif\" font-size=\"14.00\" text-anchor=\"middle\" x=\"196.6634\" y=\"-614.9\">output:</text>\n",
       "<polyline fill=\"none\" points=\"224.4993,-606.7 224.4993,-656.3 \" stroke=\"#000000\"/>\n",
       "<text fill=\"#000000\" font-family=\"Times,serif\" font-size=\"14.00\" text-anchor=\"middle\" x=\"283.8205\" y=\"-639.7\">(None, 26, 26, 32)</text>\n",
       "<polyline fill=\"none\" points=\"224.4993,-631.5 343.1417,-631.5 \" stroke=\"#000000\"/>\n",
       "<text fill=\"#000000\" font-family=\"Times,serif\" font-size=\"14.00\" text-anchor=\"middle\" x=\"283.8205\" y=\"-614.9\">(None, 24, 24, 32)</text>\n",
       "</g>\n",
       "<!-- 140716032458592&#45;&gt;140716032348456 -->\n",
       "<g class=\"edge\" id=\"edge3\">\n",
       "<title>140716032458592-&gt;140716032348456</title>\n",
       "<path d=\"M192.9604,-693.0517C192.9604,-684.7937 192.9604,-675.4517 192.9604,-666.5864\" fill=\"none\" stroke=\"#000000\"/>\n",
       "<polygon fill=\"#000000\" points=\"196.4605,-666.492 192.9604,-656.492 189.4605,-666.492 196.4605,-666.492\" stroke=\"#000000\"/>\n",
       "</g>\n",
       "<!-- 140716032341720 -->\n",
       "<g class=\"node\" id=\"node4\">\n",
       "<title>140716032341720</title>\n",
       "<polygon fill=\"none\" points=\"29.9558,-520.1 29.9558,-569.7 355.965,-569.7 355.965,-520.1 29.9558,-520.1\" stroke=\"#000000\"/>\n",
       "<text fill=\"#000000\" font-family=\"Times,serif\" font-size=\"14.00\" text-anchor=\"middle\" x=\"105.8033\" y=\"-540.7\">activation_4: Activation</text>\n",
       "<polyline fill=\"none\" points=\"181.6508,-520.1 181.6508,-569.7 \" stroke=\"#000000\"/>\n",
       "<text fill=\"#000000\" font-family=\"Times,serif\" font-size=\"14.00\" text-anchor=\"middle\" x=\"209.4867\" y=\"-553.1\">input:</text>\n",
       "<polyline fill=\"none\" points=\"181.6508,-544.9 237.3226,-544.9 \" stroke=\"#000000\"/>\n",
       "<text fill=\"#000000\" font-family=\"Times,serif\" font-size=\"14.00\" text-anchor=\"middle\" x=\"209.4867\" y=\"-528.3\">output:</text>\n",
       "<polyline fill=\"none\" points=\"237.3226,-520.1 237.3226,-569.7 \" stroke=\"#000000\"/>\n",
       "<text fill=\"#000000\" font-family=\"Times,serif\" font-size=\"14.00\" text-anchor=\"middle\" x=\"296.6438\" y=\"-553.1\">(None, 24, 24, 32)</text>\n",
       "<polyline fill=\"none\" points=\"237.3226,-544.9 355.965,-544.9 \" stroke=\"#000000\"/>\n",
       "<text fill=\"#000000\" font-family=\"Times,serif\" font-size=\"14.00\" text-anchor=\"middle\" x=\"296.6438\" y=\"-528.3\">(None, 24, 24, 32)</text>\n",
       "</g>\n",
       "<!-- 140716032348456&#45;&gt;140716032341720 -->\n",
       "<g class=\"edge\" id=\"edge4\">\n",
       "<title>140716032348456-&gt;140716032341720</title>\n",
       "<path d=\"M192.9604,-606.4517C192.9604,-598.1937 192.9604,-588.8517 192.9604,-579.9864\" fill=\"none\" stroke=\"#000000\"/>\n",
       "<polygon fill=\"#000000\" points=\"196.4605,-579.892 192.9604,-569.892 189.4605,-579.892 196.4605,-579.892\" stroke=\"#000000\"/>\n",
       "</g>\n",
       "<!-- 140716032455120 -->\n",
       "<g class=\"node\" id=\"node5\">\n",
       "<title>140716032455120</title>\n",
       "<polygon fill=\"none\" points=\"0,-433.5 0,-483.1 385.9208,-483.1 385.9208,-433.5 0,-433.5\" stroke=\"#000000\"/>\n",
       "<text fill=\"#000000\" font-family=\"Times,serif\" font-size=\"14.00\" text-anchor=\"middle\" x=\"105.8033\" y=\"-454.1\">max_pooling2d_2: MaxPooling2D</text>\n",
       "<polyline fill=\"none\" points=\"211.6066,-433.5 211.6066,-483.1 \" stroke=\"#000000\"/>\n",
       "<text fill=\"#000000\" font-family=\"Times,serif\" font-size=\"14.00\" text-anchor=\"middle\" x=\"239.4425\" y=\"-466.5\">input:</text>\n",
       "<polyline fill=\"none\" points=\"211.6066,-458.3 267.2784,-458.3 \" stroke=\"#000000\"/>\n",
       "<text fill=\"#000000\" font-family=\"Times,serif\" font-size=\"14.00\" text-anchor=\"middle\" x=\"239.4425\" y=\"-441.7\">output:</text>\n",
       "<polyline fill=\"none\" points=\"267.2784,-433.5 267.2784,-483.1 \" stroke=\"#000000\"/>\n",
       "<text fill=\"#000000\" font-family=\"Times,serif\" font-size=\"14.00\" text-anchor=\"middle\" x=\"326.5996\" y=\"-466.5\">(None, 24, 24, 32)</text>\n",
       "<polyline fill=\"none\" points=\"267.2784,-458.3 385.9208,-458.3 \" stroke=\"#000000\"/>\n",
       "<text fill=\"#000000\" font-family=\"Times,serif\" font-size=\"14.00\" text-anchor=\"middle\" x=\"326.5996\" y=\"-441.7\">(None, 12, 12, 32)</text>\n",
       "</g>\n",
       "<!-- 140716032341720&#45;&gt;140716032455120 -->\n",
       "<g class=\"edge\" id=\"edge5\">\n",
       "<title>140716032341720-&gt;140716032455120</title>\n",
       "<path d=\"M192.9604,-519.8517C192.9604,-511.5937 192.9604,-502.2517 192.9604,-493.3864\" fill=\"none\" stroke=\"#000000\"/>\n",
       "<polygon fill=\"#000000\" points=\"196.4605,-493.292 192.9604,-483.292 189.4605,-493.292 196.4605,-493.292\" stroke=\"#000000\"/>\n",
       "</g>\n",
       "<!-- 140716032454840 -->\n",
       "<g class=\"node\" id=\"node6\">\n",
       "<title>140716032454840</title>\n",
       "<polygon fill=\"none\" points=\"49.7854,-346.9 49.7854,-396.5 336.1354,-396.5 336.1354,-346.9 49.7854,-346.9\" stroke=\"#000000\"/>\n",
       "<text fill=\"#000000\" font-family=\"Times,serif\" font-size=\"14.00\" text-anchor=\"middle\" x=\"105.8033\" y=\"-367.5\">flatten_2: Flatten</text>\n",
       "<polyline fill=\"none\" points=\"161.8212,-346.9 161.8212,-396.5 \" stroke=\"#000000\"/>\n",
       "<text fill=\"#000000\" font-family=\"Times,serif\" font-size=\"14.00\" text-anchor=\"middle\" x=\"189.6571\" y=\"-379.9\">input:</text>\n",
       "<polyline fill=\"none\" points=\"161.8212,-371.7 217.493,-371.7 \" stroke=\"#000000\"/>\n",
       "<text fill=\"#000000\" font-family=\"Times,serif\" font-size=\"14.00\" text-anchor=\"middle\" x=\"189.6571\" y=\"-355.1\">output:</text>\n",
       "<polyline fill=\"none\" points=\"217.493,-346.9 217.493,-396.5 \" stroke=\"#000000\"/>\n",
       "<text fill=\"#000000\" font-family=\"Times,serif\" font-size=\"14.00\" text-anchor=\"middle\" x=\"276.8142\" y=\"-379.9\">(None, 12, 12, 32)</text>\n",
       "<polyline fill=\"none\" points=\"217.493,-371.7 336.1354,-371.7 \" stroke=\"#000000\"/>\n",
       "<text fill=\"#000000\" font-family=\"Times,serif\" font-size=\"14.00\" text-anchor=\"middle\" x=\"276.8142\" y=\"-355.1\">(None, 4608)</text>\n",
       "</g>\n",
       "<!-- 140716032455120&#45;&gt;140716032454840 -->\n",
       "<g class=\"edge\" id=\"edge6\">\n",
       "<title>140716032455120-&gt;140716032454840</title>\n",
       "<path d=\"M192.9604,-433.2517C192.9604,-424.9937 192.9604,-415.6517 192.9604,-406.7864\" fill=\"none\" stroke=\"#000000\"/>\n",
       "<polygon fill=\"#000000\" points=\"196.4605,-406.692 192.9604,-396.692 189.4605,-406.692 196.4605,-406.692\" stroke=\"#000000\"/>\n",
       "</g>\n",
       "<!-- 140716032440472 -->\n",
       "<g class=\"node\" id=\"node7\">\n",
       "<title>140716032440472</title>\n",
       "<polygon fill=\"none\" points=\"56.0035,-260.3 56.0035,-309.9 329.9173,-309.9 329.9173,-260.3 56.0035,-260.3\" stroke=\"#000000\"/>\n",
       "<text fill=\"#000000\" font-family=\"Times,serif\" font-size=\"14.00\" text-anchor=\"middle\" x=\"119.8033\" y=\"-280.9\">dropout_9: Dropout</text>\n",
       "<polyline fill=\"none\" points=\"183.6031,-260.3 183.6031,-309.9 \" stroke=\"#000000\"/>\n",
       "<text fill=\"#000000\" font-family=\"Times,serif\" font-size=\"14.00\" text-anchor=\"middle\" x=\"211.439\" y=\"-293.3\">input:</text>\n",
       "<polyline fill=\"none\" points=\"183.6031,-285.1 239.2749,-285.1 \" stroke=\"#000000\"/>\n",
       "<text fill=\"#000000\" font-family=\"Times,serif\" font-size=\"14.00\" text-anchor=\"middle\" x=\"211.439\" y=\"-268.5\">output:</text>\n",
       "<polyline fill=\"none\" points=\"239.2749,-260.3 239.2749,-309.9 \" stroke=\"#000000\"/>\n",
       "<text fill=\"#000000\" font-family=\"Times,serif\" font-size=\"14.00\" text-anchor=\"middle\" x=\"284.5961\" y=\"-293.3\">(None, 4608)</text>\n",
       "<polyline fill=\"none\" points=\"239.2749,-285.1 329.9173,-285.1 \" stroke=\"#000000\"/>\n",
       "<text fill=\"#000000\" font-family=\"Times,serif\" font-size=\"14.00\" text-anchor=\"middle\" x=\"284.5961\" y=\"-268.5\">(None, 4608)</text>\n",
       "</g>\n",
       "<!-- 140716032454840&#45;&gt;140716032440472 -->\n",
       "<g class=\"edge\" id=\"edge7\">\n",
       "<title>140716032454840-&gt;140716032440472</title>\n",
       "<path d=\"M192.9604,-346.6517C192.9604,-338.3937 192.9604,-329.0517 192.9604,-320.1864\" fill=\"none\" stroke=\"#000000\"/>\n",
       "<polygon fill=\"#000000\" points=\"196.4605,-320.092 192.9604,-310.092 189.4605,-320.092 196.4605,-320.092\" stroke=\"#000000\"/>\n",
       "</g>\n",
       "<!-- 140716032440416 -->\n",
       "<g class=\"node\" id=\"node8\">\n",
       "<title>140716032440416</title>\n",
       "<polygon fill=\"none\" points=\"64.1809,-173.7 64.1809,-223.3 321.7399,-223.3 321.7399,-173.7 64.1809,-173.7\" stroke=\"#000000\"/>\n",
       "<text fill=\"#000000\" font-family=\"Times,serif\" font-size=\"14.00\" text-anchor=\"middle\" x=\"119.8033\" y=\"-194.3\">dense_11: Dense</text>\n",
       "<polyline fill=\"none\" points=\"175.4257,-173.7 175.4257,-223.3 \" stroke=\"#000000\"/>\n",
       "<text fill=\"#000000\" font-family=\"Times,serif\" font-size=\"14.00\" text-anchor=\"middle\" x=\"203.2616\" y=\"-206.7\">input:</text>\n",
       "<polyline fill=\"none\" points=\"175.4257,-198.5 231.0975,-198.5 \" stroke=\"#000000\"/>\n",
       "<text fill=\"#000000\" font-family=\"Times,serif\" font-size=\"14.00\" text-anchor=\"middle\" x=\"203.2616\" y=\"-181.9\">output:</text>\n",
       "<polyline fill=\"none\" points=\"231.0975,-173.7 231.0975,-223.3 \" stroke=\"#000000\"/>\n",
       "<text fill=\"#000000\" font-family=\"Times,serif\" font-size=\"14.00\" text-anchor=\"middle\" x=\"276.4187\" y=\"-206.7\">(None, 4608)</text>\n",
       "<polyline fill=\"none\" points=\"231.0975,-198.5 321.7399,-198.5 \" stroke=\"#000000\"/>\n",
       "<text fill=\"#000000\" font-family=\"Times,serif\" font-size=\"14.00\" text-anchor=\"middle\" x=\"276.4187\" y=\"-181.9\">(None, 128)</text>\n",
       "</g>\n",
       "<!-- 140716032440472&#45;&gt;140716032440416 -->\n",
       "<g class=\"edge\" id=\"edge8\">\n",
       "<title>140716032440472-&gt;140716032440416</title>\n",
       "<path d=\"M192.9604,-260.0517C192.9604,-251.7937 192.9604,-242.4517 192.9604,-233.5864\" fill=\"none\" stroke=\"#000000\"/>\n",
       "<polygon fill=\"#000000\" points=\"196.4605,-233.492 192.9604,-223.492 189.4605,-233.492 196.4605,-233.492\" stroke=\"#000000\"/>\n",
       "</g>\n",
       "<!-- 140716032654416 -->\n",
       "<g class=\"node\" id=\"node9\">\n",
       "<title>140716032654416</title>\n",
       "<polygon fill=\"none\" points=\"56.0035,-87.1 56.0035,-136.7 329.9173,-136.7 329.9173,-87.1 56.0035,-87.1\" stroke=\"#000000\"/>\n",
       "<text fill=\"#000000\" font-family=\"Times,serif\" font-size=\"14.00\" text-anchor=\"middle\" x=\"123.3033\" y=\"-107.7\">dropout_10: Dropout</text>\n",
       "<polyline fill=\"none\" points=\"190.6031,-87.1 190.6031,-136.7 \" stroke=\"#000000\"/>\n",
       "<text fill=\"#000000\" font-family=\"Times,serif\" font-size=\"14.00\" text-anchor=\"middle\" x=\"218.439\" y=\"-120.1\">input:</text>\n",
       "<polyline fill=\"none\" points=\"190.6031,-111.9 246.2749,-111.9 \" stroke=\"#000000\"/>\n",
       "<text fill=\"#000000\" font-family=\"Times,serif\" font-size=\"14.00\" text-anchor=\"middle\" x=\"218.439\" y=\"-95.3\">output:</text>\n",
       "<polyline fill=\"none\" points=\"246.2749,-87.1 246.2749,-136.7 \" stroke=\"#000000\"/>\n",
       "<text fill=\"#000000\" font-family=\"Times,serif\" font-size=\"14.00\" text-anchor=\"middle\" x=\"288.0961\" y=\"-120.1\">(None, 128)</text>\n",
       "<polyline fill=\"none\" points=\"246.2749,-111.9 329.9173,-111.9 \" stroke=\"#000000\"/>\n",
       "<text fill=\"#000000\" font-family=\"Times,serif\" font-size=\"14.00\" text-anchor=\"middle\" x=\"288.0961\" y=\"-95.3\">(None, 128)</text>\n",
       "</g>\n",
       "<!-- 140716032440416&#45;&gt;140716032654416 -->\n",
       "<g class=\"edge\" id=\"edge9\">\n",
       "<title>140716032440416-&gt;140716032654416</title>\n",
       "<path d=\"M192.9604,-173.4517C192.9604,-165.1937 192.9604,-155.8517 192.9604,-146.9864\" fill=\"none\" stroke=\"#000000\"/>\n",
       "<polygon fill=\"#000000\" points=\"196.4605,-146.892 192.9604,-136.892 189.4605,-146.892 196.4605,-146.892\" stroke=\"#000000\"/>\n",
       "</g>\n",
       "<!-- 140716032655200 -->\n",
       "<g class=\"node\" id=\"node10\">\n",
       "<title>140716032655200</title>\n",
       "<polygon fill=\"none\" points=\"67.6809,-.5 67.6809,-50.1 318.2399,-50.1 318.2399,-.5 67.6809,-.5\" stroke=\"#000000\"/>\n",
       "<text fill=\"#000000\" font-family=\"Times,serif\" font-size=\"14.00\" text-anchor=\"middle\" x=\"123.3033\" y=\"-21.1\">dense_12: Dense</text>\n",
       "<polyline fill=\"none\" points=\"178.9257,-.5 178.9257,-50.1 \" stroke=\"#000000\"/>\n",
       "<text fill=\"#000000\" font-family=\"Times,serif\" font-size=\"14.00\" text-anchor=\"middle\" x=\"206.7616\" y=\"-33.5\">input:</text>\n",
       "<polyline fill=\"none\" points=\"178.9257,-25.3 234.5975,-25.3 \" stroke=\"#000000\"/>\n",
       "<text fill=\"#000000\" font-family=\"Times,serif\" font-size=\"14.00\" text-anchor=\"middle\" x=\"206.7616\" y=\"-8.7\">output:</text>\n",
       "<polyline fill=\"none\" points=\"234.5975,-.5 234.5975,-50.1 \" stroke=\"#000000\"/>\n",
       "<text fill=\"#000000\" font-family=\"Times,serif\" font-size=\"14.00\" text-anchor=\"middle\" x=\"276.4187\" y=\"-33.5\">(None, 128)</text>\n",
       "<polyline fill=\"none\" points=\"234.5975,-25.3 318.2399,-25.3 \" stroke=\"#000000\"/>\n",
       "<text fill=\"#000000\" font-family=\"Times,serif\" font-size=\"14.00\" text-anchor=\"middle\" x=\"276.4187\" y=\"-8.7\">(None, 10)</text>\n",
       "</g>\n",
       "<!-- 140716032654416&#45;&gt;140716032655200 -->\n",
       "<g class=\"edge\" id=\"edge10\">\n",
       "<title>140716032654416-&gt;140716032655200</title>\n",
       "<path d=\"M192.9604,-86.8517C192.9604,-78.5937 192.9604,-69.2517 192.9604,-60.3864\" fill=\"none\" stroke=\"#000000\"/>\n",
       "<polygon fill=\"#000000\" points=\"196.4605,-60.292 192.9604,-50.292 189.4605,-60.292 196.4605,-60.292\" stroke=\"#000000\"/>\n",
       "</g>\n",
       "<!-- 140716032456632 -->\n",
       "<g class=\"node\" id=\"node11\">\n",
       "<title>140716032456632</title>\n",
       "<polygon fill=\"none\" points=\"132.4604,-866.5 132.4604,-902.5 253.4604,-902.5 253.4604,-866.5 132.4604,-866.5\" stroke=\"#000000\"/>\n",
       "<text fill=\"#000000\" font-family=\"Times,serif\" font-size=\"14.00\" text-anchor=\"middle\" x=\"192.9604\" y=\"-880.3\">140716032456632</text>\n",
       "</g>\n",
       "<!-- 140716032456632&#45;&gt;140716032457080 -->\n",
       "<g class=\"edge\" id=\"edge1\">\n",
       "<title>140716032456632-&gt;140716032457080</title>\n",
       "<path d=\"M192.9604,-866.3921C192.9604,-858.5071 192.9604,-848.9843 192.9604,-839.8049\" fill=\"none\" stroke=\"#000000\"/>\n",
       "<polygon fill=\"#000000\" points=\"196.4605,-839.6927 192.9604,-829.6927 189.4605,-839.6927 196.4605,-839.6927\" stroke=\"#000000\"/>\n",
       "</g>\n",
       "</g>\n",
       "</svg>"
      ],
      "text/plain": [
       "<IPython.core.display.SVG object>"
      ]
     },
     "execution_count": 89,
     "metadata": {},
     "output_type": "execute_result"
    }
   ],
   "source": [
    "SVG(model_to_dot(model_cnn, show_shapes=True).create(prog='dot', format='svg'))"
   ]
  },
  {
   "cell_type": "markdown",
   "metadata": {},
   "source": [
    "## Training"
   ]
  },
  {
   "cell_type": "markdown",
   "metadata": {},
   "source": [
    "Training parameters are the following:\n",
    "* nb_epoch $-$ number of epochs to train. here we choose 12; one may condiser using some stopping criterias\n",
    "* **batch_size** $-$ parameter that controls how frequent do we update gradient; with $\\text{batch_size}=1$ optimization is nothing but pure Stohastic Gradient Descent (update gradient after passing each one object); with $\\text{batch_size}=\\textit{number of objects}$ it will be usual Gradient Descent which updates gradient only after passing all objects. Choosing value between this two one can control speed and convergence of training process."
   ]
  },
  {
   "cell_type": "code",
   "execution_count": 90,
   "metadata": {},
   "outputs": [],
   "source": [
    "batch_size = 128\n",
    "epochs = 5"
   ]
  },
  {
   "cell_type": "markdown",
   "metadata": {},
   "source": [
    "Train!"
   ]
  },
  {
   "cell_type": "code",
   "execution_count": 91,
   "metadata": {},
   "outputs": [
    {
     "name": "stdout",
     "output_type": "stream",
     "text": [
      "Train on 48000 samples, validate on 12000 samples\n",
      "Epoch 1/5\n",
      "48000/48000 [==============================] - 79s 2ms/step - loss: 0.3503 - acc: 0.8917 - val_loss: 0.0854 - val_acc: 0.9747\n",
      "Epoch 2/5\n",
      "48000/48000 [==============================] - 65s 1ms/step - loss: 0.1294 - acc: 0.9604 - val_loss: 0.0588 - val_acc: 0.9821\n",
      "Epoch 3/5\n",
      "48000/48000 [==============================] - 71s 1ms/step - loss: 0.0964 - acc: 0.9699 - val_loss: 0.0455 - val_acc: 0.9871\n",
      "Epoch 4/5\n",
      "48000/48000 [==============================] - 60s 1ms/step - loss: 0.0816 - acc: 0.9753 - val_loss: 0.0432 - val_acc: 0.9870\n",
      "Epoch 5/5\n",
      "48000/48000 [==============================] - 60s 1ms/step - loss: 0.0713 - acc: 0.9777 - val_loss: 0.0428 - val_acc: 0.9889\n",
      "seconds_per_epoch: 67.09\n"
     ]
    }
   ],
   "source": [
    "import time\n",
    "start = time.time()\n",
    "hist = model_cnn.fit(X_train, y_train, \n",
    "                     batch_size=batch_size, \n",
    "                     epochs=epochs,\n",
    "                     validation_data=(X_valid, y_valid))\n",
    "end = time.time()\n",
    "seconds_per_epoch = f\"{(end - start)/epochs:.4}\"\n",
    "print(f\"seconds_per_epoch: {seconds_per_epoch}\")\n"
   ]
  },
  {
   "cell_type": "markdown",
   "metadata": {},
   "source": [
    "## Evaluation"
   ]
  },
  {
   "cell_type": "markdown",
   "metadata": {},
   "source": [
    "Visualization of learning process:"
   ]
  },
  {
   "cell_type": "code",
   "execution_count": 92,
   "metadata": {},
   "outputs": [
    {
     "name": "stderr",
     "output_type": "stream",
     "text": [
      "/usr/local/lib/python3.6/site-packages/matplotlib/cbook/__init__.py:424: MatplotlibDeprecationWarning: \n",
      "Passing one of 'on', 'true', 'off', 'false' as a boolean is deprecated; use an actual boolean (True/False) instead.\n",
      "  warn_deprecated(\"2.2\", \"Passing one of 'on', 'true', 'off', 'false' as a \"\n",
      "/usr/local/lib/python3.6/site-packages/matplotlib/cbook/__init__.py:424: MatplotlibDeprecationWarning: \n",
      "Passing one of 'on', 'true', 'off', 'false' as a boolean is deprecated; use an actual boolean (True/False) instead.\n",
      "  warn_deprecated(\"2.2\", \"Passing one of 'on', 'true', 'off', 'false' as a \"\n"
     ]
    },
    {
     "data": {
      "image/png": "[encoded data removed]",
      "text/plain": [
       "<Figure size 1440x576 with 2 Axes>"
      ]
     },
     "metadata": {},
     "output_type": "display_data"
    }
   ],
   "source": [
    "plt.figure(figsize=(20, 8))\n",
    "plt.suptitle(\"CNN model training\", fontsize=18)\n",
    "plt.subplot(121)\n",
    "plt.plot(hist.history[\"loss\"], label=\"Train\")\n",
    "plt.plot(hist.history[\"val_loss\"], label=\"Validation\")\n",
    "plt.grid(\"on\")\n",
    "plt.xlabel(\"Epoch\", fontsize=14)\n",
    "plt.ylabel(\"Crossentropy\", fontsize=14)\n",
    "plt.title(\"Crossentropy CXE\")\n",
    "plt.legend(loc=\"upper right\")\n",
    "plt.subplot(122)\n",
    "plt.plot(hist.history[\"acc\"], label=\"Train\")\n",
    "plt.grid(\"on\")\n",
    "plt.plot(hist.history[\"val_acc\"], label=\"Validation\")\n",
    "plt.xlabel(\"Epoch\", fontsize=14)\n",
    "plt.ylabel(\"Accuracy\", fontsize=14)\n",
    "plt.legend(loc=\"lower right\")\n",
    "plt.title(\"Accuracy\")\n",
    "plt.ylim([0.88, 1.0]);"
   ]
  },
  {
   "cell_type": "markdown",
   "metadata": {},
   "source": [
    "Final evaluation of the model:"
   ]
  },
  {
   "cell_type": "code",
   "execution_count": 93,
   "metadata": {},
   "outputs": [
    {
     "name": "stdout",
     "output_type": "stream",
     "text": [
      "10000/10000 [==============================] - 3s 292us/step\n"
     ]
    },
    {
     "data": {
      "text/html": [
       "<div>\n",
       "<style scoped>\n",
       "    .dataframe tbody tr th:only-of-type {\n",
       "        vertical-align: middle;\n",
       "    }\n",
       "\n",
       "    .dataframe tbody tr th {\n",
       "        vertical-align: top;\n",
       "    }\n",
       "\n",
       "    .dataframe thead th {\n",
       "        text-align: right;\n",
       "    }\n",
       "</style>\n",
       "<table border=\"1\" class=\"dataframe\">\n",
       "  <thead>\n",
       "    <tr style=\"text-align: right;\">\n",
       "      <th></th>\n",
       "      <th>exp_name</th>\n",
       "      <th>epoch (secs)</th>\n",
       "      <th>Epochs</th>\n",
       "      <th>Train CXE Loss</th>\n",
       "      <th>Train Acc</th>\n",
       "      <th>Validation CXE Loss</th>\n",
       "      <th>Validation  Acc</th>\n",
       "      <th>Test CXE Loss</th>\n",
       "      <th>Test  Accuracy</th>\n",
       "    </tr>\n",
       "  </thead>\n",
       "  <tbody>\n",
       "    <tr>\n",
       "      <th>0</th>\n",
       "      <td>MLP-784-128-128-128-10</td>\n",
       "      <td>2.528</td>\n",
       "      <td>20</td>\n",
       "      <td>0.146</td>\n",
       "      <td>0.957</td>\n",
       "      <td>1.248</td>\n",
       "      <td>0.922</td>\n",
       "      <td>0.172</td>\n",
       "      <td>0.950</td>\n",
       "    </tr>\n",
       "    <tr>\n",
       "      <th>1</th>\n",
       "      <td>MLP-784-128-128-128-10</td>\n",
       "      <td>2.528</td>\n",
       "      <td>20</td>\n",
       "      <td>0.146</td>\n",
       "      <td>0.957</td>\n",
       "      <td>1.248</td>\n",
       "      <td>0.922</td>\n",
       "      <td>0.172</td>\n",
       "      <td>0.950</td>\n",
       "    </tr>\n",
       "    <tr>\n",
       "      <th>2</th>\n",
       "      <td>CNN-784_32x3x3-32_3x3-128-10</td>\n",
       "      <td>67.09</td>\n",
       "      <td>5</td>\n",
       "      <td>0.028</td>\n",
       "      <td>0.991</td>\n",
       "      <td>0.043</td>\n",
       "      <td>0.989</td>\n",
       "      <td>0.037</td>\n",
       "      <td>0.988</td>\n",
       "    </tr>\n",
       "  </tbody>\n",
       "</table>\n",
       "</div>"
      ],
      "text/plain": [
       "                       exp_name epoch (secs) Epochs  Train CXE Loss  \\\n",
       "0        MLP-784-128-128-128-10        2.528     20           0.146   \n",
       "1        MLP-784-128-128-128-10        2.528     20           0.146   \n",
       "2  CNN-784_32x3x3-32_3x3-128-10        67.09      5           0.028   \n",
       "\n",
       "   Train Acc  Validation CXE Loss  Validation  Acc  Test CXE Loss  \\\n",
       "0      0.957                1.248            0.922          0.172   \n",
       "1      0.957                1.248            0.922          0.172   \n",
       "2      0.991                0.043            0.989          0.037   \n",
       "\n",
       "   Test  Accuracy  \n",
       "0           0.950  \n",
       "1           0.950  \n",
       "2           0.988  "
      ]
     },
     "execution_count": 93,
     "metadata": {},
     "output_type": "execute_result"
    }
   ],
   "source": [
    "# add the result of this experiment to the log book\n",
    "exp_name = \"CNN-784_32x3x3-32_3x3-128-10\" # experiment name\n",
    "try:\n",
    "    expLog\n",
    "except NameError:\n",
    "    expLog = pd.DataFrame(columns=[\"exp_name\",\"epoch (secs)\",\"Epochs\",\"Train CXE Loss\", \"Train Acc\", \"Validation CXE Loss\", \"Validation  Acc\",\n",
    "                    \"Test CXE Loss\", \"Test  Accuracy\"])\n",
    "    \n",
    "# Add a experiment results to the experiment log\n",
    "model = model_cnn\n",
    "expLog.loc[len(expLog)] = [f\"{exp_name}\", seconds_per_epoch, epochs] + list(np.round(np.reshape([model.evaluate(X_train, y_train, verbose=0), \n",
    "                   model.evaluate(X_valid, y_valid, verbose=0),\n",
    "                   model.evaluate(X_test,  y_test, verbose=1)], -1), 3))\n",
    "expLog"
   ]
  },
  {
   "cell_type": "markdown",
   "metadata": {},
   "source": [
    "# Task: choose a better CNN architecture\n",
    "\n",
    "\n",
    "## Task 5.1 : choose a better CNN architecture\n",
    "\n",
    "Search for a good CNN architecture to model the MNIST problem.\n",
    "\n",
    "It is up to you what the model will be. Here are some things you need to decide:\n",
    "* how many convolutional layers?\n",
    "* what spatial size will your convolutions be?\n",
    "* how many channels will your convolutions be?\n",
    "* what nonlinearity will you use?\n",
    "* will you use pooling? what type?\n",
    "* how many fully-connected layers will you have?\n",
    "* will you use dropout?\n",
    "* what batch size?\n",
    "\n",
    "Keras provides a special layer called `Flatten` to flatten the convolutional features into a vector before the fully-connected layers. You should look at the documentation for Keras's convolutional layers: http://keras.io/layers/convolutional/. In particular, you may want to look at `Convolution2D`, `MaxPooling2D`, `AveragePooling2D`, `Flatten`, and `Dropout`. For this problem, you make want to use the `'rmsprop'` optimizer - it is an algorithm that adapts the learning rate during learning for you automatically.\n",
    "\n",
    "\n",
    "\n",
    "**Please paste your response here using the following format:** \n",
    "* Best archtecture is:  \n",
    "* Test accuracy: \n",
    "* Training time per epoch in seconds is : \n",
    "\n",
    "\n",
    "## Task 5.2 : with 500 training examples\n",
    "\n",
    "Use only 500 examples per class (recall we  have only 10 classes) and find the best architecture. \n",
    "HINTs:\n",
    "* you can do  stratified sampling OR just random selection of 5,000 examples\n",
    "* for inspiration, see [here](https://mclguide.readthedocs.io/en/latest/sklearn/multiclass.html)\n",
    "* For more details see: [sklearn.model_selection.train_test_split manual page](https://scikit-learn.org/stable/modules/generated/sklearn.model_selection.train_test_split.html)\n",
    "  * `stratify` : array-like or None (default=None)\n",
    "    If not None, data is split in a stratified fashion, using this as the class labels.\n",
    "\n",
    "```python\n",
    "# load MNIST data\n",
    "from sklearn.model_selection import train_test_split\n",
    "(X_train, y_train), (X_test, y_test) = mnist.load_data()\n",
    "X_train, X_valid, y_train, y_valid = train_test_split(X_train, y_train, \n",
    "                                                     test_size=55000./60000., random_state=42, \n",
    "                                                     stratify=y_train)\n",
    "img_rows, img_cols = 28, 28\n",
    "number_of_classes = 10\n",
    "print(f\"X before flatten train      shape: {X_train.shape}\")\n",
    "print(f\"X before flatten validation shape: {X_valid.shape}\")\n",
    "print(f\"X before flatten test       shape: {X_test.shape}\")\n",
    "print(f\"All data: {np.bincount(y_train) / float(len(y_train))}\")\n",
    "```\n",
    "\n",
    "**Please paste your response here:** \n",
    "* Best archtecture is:  \n",
    "* Test accuracy: \n",
    "* Training time per epoch in seconds is : \n",
    "\n",
    "## Task 5.3 : Odd versus Even Classifier\n",
    "\n",
    "Build a binary classifier that classifiers odd numbers versus even numbers. Again, try to find the best architecture.\n",
    "\n",
    "\n",
    "**Please paste your response here:** \n",
    "* Best archtecture is:  \n",
    "* Test accuracy: \n",
    "* Training time per epoch in seconds is : \n",
    "\n",
    "\n",
    "## 5.4 Homework Submission Instructions:\n",
    "\n",
    "\n",
    "\n",
    "1. Please fill in your best architecture for each of the three homework tasks 5.1, 5.2, 5.3: \n",
    "https://docs.google.com/spreadsheets/d/11Ot_v7EKmBoNgXBEjCsN_S7tYtfa5OXFLQoH62JCf1g/edit?usp=sharing\n",
    "  * NOTE: that each task has a SEPARATE table/tab in the above spreadsheet.\n",
    "  * The winner in each task gets a special prize!\n",
    "* Please upload your notebook to the following Google Drive folder (you save directly or just can drag and drop):\n",
    "  * https://drive.google.com/drive/folders/18Ng3PfnVBhrT82s_rQ_-WylE5rN7f9ej?usp=sharing\n",
    "* Your homework submission is now due tomorrow (Friday) morning at 8AM (that will give you an extra 12 hours!!)\n",
    "* Please send the following by EMAIL to James.Shanahan@gmail.com with the subject \"Sichuan2019: MNIST Best MLP Architecture\"\n",
    "\n",
    "  * Link to your own Google Colab notebook where you did the experiments\n",
    "  * All the text + your response from this cell\n",
    "  * A screenshot of your expLog table"
   ]
  },
  {
   "cell_type": "code",
   "execution_count": null,
   "metadata": {},
   "outputs": [],
   "source": []
  },
  {
   "cell_type": "code",
   "execution_count": null,
   "metadata": {},
   "outputs": [],
   "source": []
  }
 ],
 "metadata": {
  "anaconda-cloud": {},
  "kernelspec": {
   "display_name": "Python 3",
   "language": "python",
   "name": "python3"
  },
  "language_info": {
   "codemirror_mode": {
    "name": "ipython",
    "version": 3
   },
   "file_extension": ".py",
   "mimetype": "text/x-python",
   "name": "python",
   "nbconvert_exporter": "python",
   "pygments_lexer": "ipython3",
   "version": "3.6.10"
  },
  "toc": {
   "base_numbering": 1,
   "nav_menu": {
    "height": "192px",
    "width": "252px"
   },
   "number_sections": true,
   "sideBar": true,
   "skip_h1_title": false,
   "title_cell": "Table of Contents",
   "title_sidebar": "Contents",
   "toc_cell": false,
   "toc_position": {},
   "toc_section_display": "block",
   "toc_window_display": true
  }
 },
 "nbformat": 4,
 "nbformat_minor": 4
}
